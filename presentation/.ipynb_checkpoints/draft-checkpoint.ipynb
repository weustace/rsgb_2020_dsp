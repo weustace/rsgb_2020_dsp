{
 "cells": [
  {
   "cell_type": "markdown",
   "metadata": {
    "hideCode": false,
    "hidePrompt": false,
    "slideshow": {
     "slide_type": "slide"
    }
   },
   "source": [
    "\n",
    "    \n",
    "  # DSP: Underlying Concepts\n",
    "\n",
    "    \n",
    "## William Eustace M0WJE\n",
    "## m0@wje.io\n",
    "    \n"
   ]
  },
  {
   "cell_type": "markdown",
   "metadata": {
    "hideCode": false,
    "hidePrompt": false,
    "slideshow": {
     "slide_type": "slide"
    }
   },
   "source": [
    "# What is a signal?\n",
    "\n",
    "* For our purposes: a time-varying function $f(t)$.\n",
    "* Analogue or digital?\n",
    "* Discrete or continuous?\n",
    "\n",
    "\n"
   ]
  },
  {
   "cell_type": "code",
   "execution_count": null,
   "metadata": {
    "hideCode": false,
    "hidePrompt": false,
    "slideshow": {
     "slide_type": "slide"
    }
   },
   "outputs": [],
   "source": []
  },
  {
   "cell_type": "markdown",
   "metadata": {
    "hideCode": false,
    "hidePrompt": false,
    "slideshow": {
     "slide_type": "slide"
    }
   },
   "source": [
    "# Essential Concepts\n",
    "\n",
    "\n",
    "* A **sum**: \\begin{equation} \\sum_{n=0}^{M} f(nT)\\end{equation}\n",
    "    \n",
    "* An **integral**: \\begin{equation} \\int_{-\\pi}^{\\pi} f(t) dt \\end{equation} \n",
    "\n",
    "* A **sum** which (**under some conditions**) _converges_ to an **integral**<sup>1</sup>: \\begin{equation} \\lim_{\\delta T \\to 0}( \\sum_{n} f(n \\delta T) \\delta T ) = \\int f(t) dt \\end{equation} \n",
    "\n",
    "    \n",
    "    \n",
    " "
   ]
  },
  {
   "cell_type": "code",
   "execution_count": 1,
   "metadata": {
    "hideCode": false,
    "hidePrompt": false,
    "slideshow": {
     "slide_type": "slide"
    }
   },
   "outputs": [
    {
     "data": {
      "text/plain": [
       "[<matplotlib.lines.Line2D at 0x7f56036bc250>]"
      ]
     },
     "execution_count": 1,
     "metadata": {},
     "output_type": "execute_result"
    },
    {
     "data": {
      "image/png": "[encoded data removed]",
      "text/plain": [
       "<Figure size 432x288 with 1 Axes>"
      ]
     },
     "metadata": {
      "needs_background": "light"
     },
     "output_type": "display_data"
    }
   ],
   "source": [
    "\n",
    "import warnings\n",
    "from __future__ import print_function\n",
    "warnings.filterwarnings(\"ignore\")\n",
    "\n",
    "import matplotlib.pyplot as plt\n",
    "import matplotlib \n",
    "import numpy as np\n",
    "t = np.linspace(0,100,1000)\n",
    "s = np.random.random(1000)\n",
    "plt.plot(t,s)"
   ]
  },
  {
   "cell_type": "markdown",
   "metadata": {
    "hideCode": false,
    "hidePrompt": false,
    "slideshow": {
     "slide_type": "fragment"
    }
   },
   "source": [
    " \n",
    "<sup>1</sup>This is a Riemann integral. Thankfully this is all most of us will ever need..."
   ]
  },
  {
   "cell_type": "markdown",
   "metadata": {
    "hideCode": false,
    "hidePrompt": false,
    "slideshow": {
     "slide_type": "slide"
    }
   },
   "source": [
    "# Waterfalls & Hotplates\n",
    "* Probably all have heard of the Fourier Transform and seen a waterfall display like this; do you know why it works? \n",
    "\n",
    "* waterfall pic\n",
    "\n",
    "* hotplate pic & fourier explanation\n",
    "\n",
    "* A common goal in computing the Fourier **transform** is to determine how much energy/signal there is at a given frequency. We will fudge our way into this by starting from the basics...\n",
    "\n",
    "\n"
   ]
  },
  {
   "cell_type": "markdown",
   "metadata": {
    "hideCode": false,
    "hidePrompt": false,
    "slideshow": {
     "slide_type": "slide"
    }
   },
   "source": [
    "# Towards Fourier Space\n",
    "* Ways of approximating a function: Taylor Series\n",
    "\\begin{equation}f(t) \\approx a_0 + a_1 x + a_2 x^2 + a_3 x^3 + ... \\rm{for\\ some\\ }a_i\\end{equation} \n",
    "\n",
    "* animation to illustrate Taylor series\n",
    "\n",
    "* But what if we want to represent a **periodic** function? We might try <sup>1</sup> \n",
    "\n",
    "$$ f(t) \\approx c + a_1 sin(t) + b_1 cos(t) + a_2 sin(2t) + b_2 cos(2t) + ... $$ \n",
    "\n",
    "<sup>1</sup> Advanced students should explain to their neighbours in the next break why we need both sine and cosine terms here."
   ]
  },
  {
   "cell_type": "markdown",
   "metadata": {
    "hideCode": false,
    "hidePrompt": false,
    "slideshow": {
     "slide_type": "subslide"
    }
   },
   "source": [
    "This is a _Fourier Series_. How do we find $a_i$ and $b_i$? __Orthogonality of sines__"
   ]
  },
  {
   "cell_type": "markdown",
   "metadata": {
    "hideCode": false,
    "hidePrompt": false,
    "slideshow": {
     "slide_type": "fragment"
    }
   },
   "source": [
    "\\begin{equation}\\int_{-\\pi}^\\pi sin(m x) sin(n x) dx = \\begin{cases} \n",
    "\\pi & \\forall m=n : m \\in \\mathbb{Z}\\\\\n",
    "0 & \\text{otherwise}\n",
    "\\end{cases}\\end{equation}\n",
    "(and the same is true for cos)\n",
    "\\begin{equation}\\int_{-\\pi}^\\pi sin(m x) cos(n x) dx = 0 \\ \\forall  m,n \\in \\mathbb{Z} \\end{equation}"
   ]
  },
  {
   "cell_type": "code",
   "execution_count": 9,
   "metadata": {
    "hideCode": false,
    "hidePrompt": false,
    "slideshow": {
     "slide_type": "subslide"
    }
   },
   "outputs": [
    {
     "data": {
      "application/vnd.jupyter.widget-view+json": {
       "model_id": "c7287e05c5eb4e0d985a3da7ca28de8b",
       "version_major": 2,
       "version_minor": 0
      },
      "text/plain": [
       "interactive(children=(IntSlider(value=5, description='m', max=10, min=1), Output()), _dom_classes=('widget-int…"
      ]
     },
     "metadata": {},
     "output_type": "display_data"
    },
    {
     "name": "stdout",
     "output_type": "stream",
     "text": [
      "\n"
     ]
    }
   ],
   "source": [
    "import mpld3 \n",
    "mpld3.enable_notebook()\n",
    "import warnings\n",
    "from __future__ import print_function\n",
    "warnings.filterwarnings(\"ignore\")\n",
    "\n",
    "import matplotlib.pyplot as plt\n",
    "import matplotlib \n",
    "\n",
    "from ipywidgets import interact, interactive, fixed, interact_manual\n",
    "import ipywidgets as widgets\n",
    "plt.rcParams['figure.figsize']=[7,7]\n",
    "import numpy as np\n",
    "fig,ax=plt.subplots(1,2)\n",
    "# ax.plot([0,10],[1,1])\n",
    "# fig.set_size_inches((0.1,0.1),forward=True)\n",
    "def update_m_value(m):\n",
    "#     m = m_slider.val\n",
    "    \n",
    "    plt.cla()\n",
    "    plt.plot(x,y_1,color='red')\n",
    "    plt.plot([-100,100],[0,0],color='black')\n",
    "    y_2 = np.sin(m*x)\n",
    "    plt.plot(x,y_2,color='blue')\n",
    "    plt.fill_between(x,y_1,y_2,color='grey')\n",
    "    plt.xlim(-np.pi,np.pi)\n",
    "\n",
    "    plt.yticks([-1,0,1])\n",
    "    plt.xticks([-np.pi,0,np.pi],labels=[\"-π\",0,\"π\"])\n",
    "    #plt.title('$sin(x)sin(kx)$',fontsize=30)\n",
    "    \n",
    "    mpld3.display(fig,closefig=True)\n",
    "    \n",
    "m = 2\n",
    "\n",
    "# fig,ax = plt.subplots(1,1)\n",
    "x = np.linspace(-np.pi,np.pi,500)\n",
    "y_1 = np.sin(x)\n",
    "\n",
    "update_m_value(5)\n",
    "\n",
    "#add slider for m\n",
    "\n",
    "    \n",
    "interact(update_m_value,m=(1,10,1))\n",
    "# mpld3.display(fig)\n",
    "print()\n"
   ]
  },
  {
   "cell_type": "markdown",
   "metadata": {
    "hideCode": false,
    "hidePrompt": false,
    "slideshow": {
     "slide_type": "subslide"
    }
   },
   "source": [
    "* Why does this help us?\n",
    "\n",
    "\\begin{equation} a_n = \\frac{1}{\\pi} \\int_{-\\pi}^\\pi f(t) sin(n t) dt \\end{equation}\n",
    "\n",
    "(plus a DC offset...)\n",
    "\n",
    "\\begin{equation} c = \\int_{-\\pi}^{\\pi} f(t) dt \\end{equation}\n",
    "\n"
   ]
  },
  {
   "cell_type": "code",
   "execution_count": 3,
   "metadata": {
    "hideCode": false,
    "hidePrompt": false,
    "slideshow": {
     "slide_type": "notes"
    }
   },
   "outputs": [
    {
     "data": {
      "application/vnd.jupyter.widget-view+json": {
       "model_id": "698eb0a9c088459eb94424e1ee820982",
       "version_major": 2,
       "version_minor": 0
      },
      "text/plain": [
       "interactive(children=(Checkbox(value=True, description='j'), Output()), _dom_classes=('widget-interact',))"
      ]
     },
     "metadata": {},
     "output_type": "display_data"
    },
    {
     "data": {
      "text/plain": [
       "<function __main__.f(j)>"
      ]
     },
     "execution_count": 3,
     "metadata": {},
     "output_type": "execute_result"
    }
   ],
   "source": [
    "from ipywidgets import interact, interactive, fixed, interact_manual\n",
    "import ipywidgets as widgets\n",
    "\n",
    "def f(j):\n",
    "    print(j)\n",
    "    return j\n",
    "\n",
    "j = True\n",
    "interact(f,j=True)"
   ]
  },
  {
   "cell_type": "code",
   "execution_count": null,
   "metadata": {
    "hideCode": false,
    "hidePrompt": false
   },
   "outputs": [],
   "source": []
  },
  {
   "cell_type": "code",
   "execution_count": null,
   "metadata": {
    "hideCode": false,
    "hidePrompt": false
   },
   "outputs": [],
   "source": []
  },
  {
   "cell_type": "code",
   "execution_count": null,
   "metadata": {
    "hideCode": false,
    "hidePrompt": false
   },
   "outputs": [],
   "source": []
  },
  {
   "cell_type": "code",
   "execution_count": null,
   "metadata": {
    "hideCode": false,
    "hidePrompt": false
   },
   "outputs": [],
   "source": []
  }
 ],
 "metadata": {
  "celltoolbar": "Slideshow",
  "hide_code_all_hidden": false,
  "kernelspec": {
   "display_name": "Python 3",
   "language": "python",
   "name": "python3"
  },
  "language_info": {
   "codemirror_mode": {
    "name": "ipython",
    "version": 3
   },
   "file_extension": ".py",
   "mimetype": "text/x-python",
   "name": "python",
   "nbconvert_exporter": "python",
   "pygments_lexer": "ipython3",
   "version": "3.8.5"
  }
 },
 "nbformat": 4,
 "nbformat_minor": 4
}
