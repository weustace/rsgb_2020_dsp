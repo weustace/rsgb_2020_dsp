{
 "cells": [
  {
   "cell_type": "markdown",
   "metadata": {
    "hideCode": false,
    "hidePrompt": false,
    "slideshow": {
     "slide_type": "slide"
    }
   },
   "source": [
    "<center>\n",
    "    \n",
    "  # DSP: Underlying Concepts\n",
    "   ## (Slides/Additional Notes)\n",
    "\n",
    "    \n",
    "## William Eustace M0WJE\n",
    "## m0+rsgb2020@wje.io\n",
    "</center>\n",
    "\n",
    "Note: this document contains the set of slides presented with some additional derivations and explanation. Interactive diagrams have been converted into static ones for PDF export; the code used to generate them is shown, which may prove interesting for readers wishing to play around further with the filtering slides shown later."
   ]
  },
  {
   "cell_type": "markdown",
   "metadata": {
    "hideCode": false,
    "hidePrompt": false,
    "slideshow": {
     "slide_type": "fragment"
    }
   },
   "source": [
    "# Allergen notice/Disclaimer/Apology\n",
    "### This talk contains mathematics (with explanation) but is guaranteed to be free of practical advice.\n",
    "1. The description I wrote back when I had to come up with a title was somewhat misleading; even then, I never described this as \"easy-to-understand\"!\n",
    "1. Roughly A level mathematics knowledge is advised: DSP is by nature not a maths-free zone.\n",
    "2. This talk aims to give you the underlying background to signal processing: why does it work? It will **not** be a tutorial to build a working system, and will not give you most of the tools necessary to do so.\n",
    "3. That said: if you want to build something that works in this field, it will help to understand **why** it works!\n"
   ]
  },
  {
   "cell_type": "markdown",
   "metadata": {
    "hideCode": false,
    "hidePrompt": false,
    "slideshow": {
     "slide_type": "subslide"
    }
   },
   "source": [
    "# Today's Objectives\n",
    "1. Time domain, Frequency domain, and how to go from one to the other.\n",
    "2. Nyquist's Theorem (very briefly!)\n",
    "3. Impulse Responses & Convolution."
   ]
  },
  {
   "cell_type": "markdown",
   "metadata": {
    "hideCode": false,
    "hidePrompt": false,
    "slideshow": {
     "slide_type": "slide"
    }
   },
   "source": [
    "# What is a signal?\n",
    "\n",
    "* For our purposes: a time-varying function $f(t)$.\n",
    "* Analogue or digital?\n",
    "* Discrete or continuous?\n",
    "\n",
    "\n",
    "\n"
   ]
  },
  {
   "cell_type": "code",
   "execution_count": 1,
   "metadata": {
    "hideCode": false,
    "hidePrompt": false,
    "slideshow": {
     "slide_type": "fragment"
    }
   },
   "outputs": [
    {
     "name": "stdout",
     "output_type": "stream",
     "text": [
      "\n"
     ]
    },
    {
     "data": {
      "image/png": "[encoded data removed]",
      "text/plain": [
       "<Figure size 360x360 with 1 Axes>"
      ]
     },
     "metadata": {},
     "output_type": "display_data"
    }
   ],
   "source": [
    "%reset -f\n",
    "import warnings\n",
    "from __future__ import print_function\n",
    "warnings.filterwarnings(\"ignore\")\n",
    "\n",
    "import matplotlib.pyplot as plt\n",
    "import matplotlib \n",
    "import numpy as np\n",
    "import seaborn as sns\n",
    "colour_palette = sns.color_palette(\"colorblind\",3)\n",
    "plt.rcParams['figure.figsize']=[5,5]\n",
    "\n",
    "t = np.linspace(0,10,1000)\n",
    "s = np.sin(t)+2 \n",
    "plt.plot(t,s,lw=3,color=colour_palette[2],linestyle='-')\n",
    "t_discrete = np.linspace(0,10,20)\n",
    "s_discrete = np.sin(t_discrete)+1\n",
    "plt.scatter(t_discrete,s_discrete,color=colour_palette[1])\n",
    "for td,sd in zip(t_discrete,s_discrete):\n",
    "    plt.plot([td,td],[0,sd],color=colour_palette[1])\n",
    "plt.xticks([])\n",
    "plt.yticks([])\n",
    "plt.xlim([0,10])\n",
    "plt.ylim([0,3.1])\n",
    "# plt.grid(True)\n",
    "print()"
   ]
  },
  {
   "cell_type": "markdown",
   "metadata": {
    "hideCode": false,
    "hidePrompt": false,
    "slideshow": {
     "slide_type": "slide"
    }
   },
   "source": [
    "# Essential Concepts\n",
    "\n",
    "\n",
    "* A **sum**: \\begin{equation} \\sum_{n=0}^{M} f(nT) = f(0\\times T) + f(1\\times T) + ... + f(M \\times T)\\end{equation}\n",
    "(for each value of n, n=0, n=1, n=2 ... n=M, evaluate the contents of the sum (in this case f(nT)) and add them up)\n",
    "\n",
    "\n",
    "    \n",
    "* An **integral**: \\begin{equation} \\int_{-\\pi}^{\\pi} f(t) dt \\end{equation} \n",
    "(find the area under f(t) with variable t along the x-axis (indicated by \"dt\") between $t=-\\pi$ and $t=\\pi$\n",
    "    \n",
    "    \n",
    " "
   ]
  },
  {
   "cell_type": "code",
   "execution_count": 2,
   "metadata": {
    "hideCode": false,
    "hidePrompt": false,
    "slideshow": {
     "slide_type": "subslide"
    }
   },
   "outputs": [
    {
     "name": "stdout",
     "output_type": "stream",
     "text": [
      "\n"
     ]
    },
    {
     "data": {
      "image/png": "[encoded data removed]",
      "text/plain": [
       "<Figure size 360x360 with 1 Axes>"
      ]
     },
     "metadata": {
      "needs_background": "light"
     },
     "output_type": "display_data"
    }
   ],
   "source": [
    "%reset -f\n",
    "import warnings\n",
    "from __future__ import print_function\n",
    "warnings.filterwarnings(\"ignore\")\n",
    "\n",
    "import matplotlib.pyplot as plt\n",
    "import matplotlib \n",
    "import numpy as np\n",
    "import seaborn as sns\n",
    "colour_palette = sns.color_palette(\"colorblind\",3)\n",
    "plt.rcParams['figure.figsize']=[5,5]\n",
    "\n",
    "t = np.linspace(0,10,1000)\n",
    "s = np.sin(t)+2 \n",
    "plt.plot(t,s,lw=3,color=colour_palette[2],linestyle='-')\n",
    "plt.fill_between(t,0,s,alpha=0.5,color=colour_palette[1])\n",
    "plt.xticks([0,5,10])\n",
    "plt.yticks([0,1.5,3])\n",
    "plt.xlim([0,10])\n",
    "plt.ylim([0,3.1])\n",
    "# plt.grid(True)\n",
    "print()"
   ]
  },
  {
   "cell_type": "markdown",
   "metadata": {
    "hideCode": false,
    "hidePrompt": false,
    "slideshow": {
     "slide_type": "fragment"
    }
   },
   "source": [
    "$$f(t) = sin(t) + 2$$\n",
    "\n",
    "The integral: $$\\int_0^{10} f(t) dt $$\n",
    "is just the area shaded in orange above. We can also approximate this by a sum: \n"
   ]
  },
  {
   "cell_type": "code",
   "execution_count": 3,
   "metadata": {
    "hideCode": false,
    "hidePrompt": false,
    "scrolled": false,
    "slideshow": {
     "slide_type": "subslide"
    }
   },
   "outputs": [
    {
     "name": "stdout",
     "output_type": "stream",
     "text": [
      "\n"
     ]
    },
    {
     "data": {
      "image/png": "[encoded data removed]",
      "text/plain": [
       "<Figure size 360x360 with 1 Axes>"
      ]
     },
     "metadata": {
      "needs_background": "light"
     },
     "output_type": "display_data"
    }
   ],
   "source": [
    "import warnings\n",
    "from __future__ import print_function\n",
    "warnings.filterwarnings(\"ignore\")\n",
    "\n",
    "import matplotlib.pyplot as plt\n",
    "import matplotlib \n",
    "import numpy as np\n",
    "import seaborn as sns\n",
    "colour_palette = sns.color_palette(\"colorblind\",3)\n",
    "plt.figure()\n",
    "plt.rcParams['figure.figsize']=[5,5]\n",
    "\n",
    "t = np.linspace(0,10,1000)\n",
    "s = np.sin(t)+2 \n",
    "plt.plot(t,s,lw=2,color=colour_palette[2],linestyle='-')\n",
    "t_points = np.linspace(0,10,11)\n",
    "s_points = np.sin(t_points)+2\n",
    "plt.scatter(t_points,s_points,color=colour_palette[2])\n",
    "for (x,y) in zip(t_points,s_points):\n",
    "    plt.plot([x,x],[0,y],color='black')\n",
    "    plt.fill_between([x,x+1],0,[y,y],alpha=0.5,color=colour_palette[1])\n",
    "\n",
    "plt.xticks([0,5,10])\n",
    "plt.yticks([0,1.5,3])\n",
    "plt.xlim([0,10])\n",
    "plt.ylim([0,3.1])\n",
    "plt.annotate(s='δT', xy=(1.4,0.95))\n",
    "plt.plot([1,2],[0.9,0.9],color=\"black\")\n",
    "plt.plot([1,1.1],[0.9,0.85],color=\"black\")\n",
    "plt.plot([1,1.1],[0.9,0.95],color=\"black\")\n",
    "plt.plot([2.0,1.9],[0.9,0.85],color=\"black\")\n",
    "plt.plot([2.0,1.9],[0.9,0.95],color=\"black\")\n",
    "# plt.grid(True)\n",
    "print()"
   ]
  },
  {
   "cell_type": "markdown",
   "metadata": {
    "hideCode": false,
    "hidePrompt": false,
    "slideshow": {
     "slide_type": "fragment"
    }
   },
   "source": [
    "By adding up the areas of the rectangles, width $\\delta T$, we clearly approximate the area; in fact, if we allow the width of the rectangles to tend to zero, this gives the precise area. This is a definition of an integral. Mathematically:\n",
    "* A **sum** which (**under some conditions**) _converges_ to an **integral**<sup>1</sup>: \\begin{equation} \\lim_{\\delta T \\to 0}( \\sum_{n} f(n \\delta T) \\delta T ) = \\int f(t) dt \\end{equation} \n",
    "\n",
    "\n",
    "(as drawn, $\\delta T =1$) \n",
    "$$\\sum_{n=0}^{10} 1 \\times f(n \\times 1) $$\n",
    "\n",
    "Now, intuitively it seems that as $\\delta T \\to 0$, we get a better estimate of the area: when we get to an infinitesimal $\\delta T$, we obtain the integral. \n"
   ]
  },
  {
   "cell_type": "markdown",
   "metadata": {
    "hideCode": false,
    "hidePrompt": false,
    "slideshow": {
     "slide_type": "fragment"
    }
   },
   "source": [
    " \n",
    "<sup>1</sup>This is a Riemann integral. Thankfully this is all most of us will ever need..."
   ]
  },
  {
   "cell_type": "markdown",
   "metadata": {
    "hideCode": false,
    "hidePrompt": false,
    "slideshow": {
     "slide_type": "subslide"
    }
   },
   "source": [
    "## Sine of the times?\n",
    "$$f(t) = sin(t)$$\n",
    "$$g(t) = sin(2t)$$\n",
    "$$h(t) = cos(t)$$\n",
    "\n",
    "Sines and cosines are trigonometric functions; the key point from our perspective is that they are periodic. If we take $sin(t)$ and put in values of $t$ between $-\\pi$ and $\\pi$, we will get the same sequence of values as if we put in $\\pi$ to $3\\pi$, or $7\\pi$ to $9\\pi$ etc etc."
   ]
  },
  {
   "cell_type": "code",
   "execution_count": 4,
   "metadata": {
    "hideCode": false,
    "hidePrompt": false,
    "slideshow": {
     "slide_type": "fragment"
    }
   },
   "outputs": [
    {
     "name": "stdout",
     "output_type": "stream",
     "text": [
      "\n"
     ]
    },
    {
     "data": {
      "image/png": "[encoded data removed]",
      "text/plain": [
       "<Figure size 360x360 with 1 Axes>"
      ]
     },
     "metadata": {
      "needs_background": "light"
     },
     "output_type": "display_data"
    },
    {
     "data": {
      "image/png": "[encoded data removed]",
      "text/plain": [
       "<Figure size 360x360 with 1 Axes>"
      ]
     },
     "metadata": {
      "needs_background": "light"
     },
     "output_type": "display_data"
    }
   ],
   "source": [
    "import warnings\n",
    "from __future__ import print_function\n",
    "warnings.filterwarnings(\"ignore\")\n",
    "\n",
    "import matplotlib.pyplot as plt\n",
    "import matplotlib \n",
    "import numpy as np\n",
    "import seaborn as sns\n",
    "colour_palette = sns.color_palette(\"colorblind\",3)\n",
    "plt.figure()\n",
    "plt.rcParams['figure.figsize']=[5,5]\n",
    "\n",
    "t = np.linspace(-np.pi,np.pi,2000)\n",
    "f = np.sin(t) \n",
    "g = np.cos(t)\n",
    "h = np.sin(2*t)\n",
    "plt.plot([-100,100],[0,0],color=\"black\")\n",
    "plt.plot(t,f,color=colour_palette[0],label=\"f(t) = sin(t)\",lw=3)\n",
    "# plt.plot(t,g,color=colour_palette[2],label=\"g(t) = cos(t)\",lw=3)\n",
    "plt.plot(t,h,color=colour_palette[1],label=\"g(t) = sin(2t)\",lw=3)\n",
    "# plt.xticks([0,5,10])\n",
    "# plt.yticks([0,1.5,3])\n",
    "plt.xlim([-np.pi,np.pi])\n",
    "plt.xticks([-np.pi,0,np.pi],labels=[\"-π\",0,\"π\"])\n",
    "# plt.ylim([0,3.1])\n",
    "# plt.grid(True)\n",
    "plt.legend()\n",
    "\n",
    "plt.figure()\n",
    "\n",
    "t = np.linspace(-np.pi,np.pi,2000)\n",
    "f = np.sin(t) \n",
    "g = np.cos(t)\n",
    "h = np.sin(2*t)\n",
    "plt.plot([-100,100],[0,0],color=\"black\")\n",
    "# plt.plot(t,f,color=colour_palette[0],label=\"f(t) = sin(t)\",lw=3)\n",
    "plt.plot(t,g,color=colour_palette[2],label=\"h(t) = cos(t)\",lw=3)\n",
    "# plt.plot(t,h,color=colour_palette[1],label=\"g(t) = sin(2t)\",lw=3)\n",
    "# plt.xticks([0,5,10])\n",
    "# plt.yticks([0,1.5,3])\n",
    "plt.xlim([-np.pi,np.pi])\n",
    "plt.xticks([-np.pi,0,np.pi],labels=[\"-π\",0,\"π\"])\n",
    "# plt.ylim([0,3.1])\n",
    "# plt.grid(True)\n",
    "plt.legend()\n",
    "print()"
   ]
  },
  {
   "cell_type": "markdown",
   "metadata": {
    "hideCode": false,
    "hidePrompt": false,
    "slideshow": {
     "slide_type": "fragment"
    }
   },
   "source": [
    "Since the period of $sin(t)$ is $2 \\pi$, a sine wave at a given frequency $k \\ \\rm{Hz} $ would be  $sin(2 \\pi k t)$.\n",
    "\n",
    "A sine wave at $f = 100 \\rm{Hz}$ would be $sin(100 \\times 2\\pi \\times t)$ where $t$ is in seconds."
   ]
  },
  {
   "cell_type": "markdown",
   "metadata": {
    "hideCode": false,
    "hidePrompt": false,
    "slideshow": {
     "slide_type": "slide"
    }
   },
   "source": [
    "# Waterfalls & Heated Plates\n",
    "\n",
    "\n",
    "* Probably all have heard of the Fourier Transform and seen a waterfall display like this; do you know why it works? \n",
    "<center>\n",
    "<img src=\"GEO_MFSK22.png\" width=200px/>\n",
    "<img src=\"ET_20m.png\" width=200px />\n",
    "</center>\n",
    "\n",
    "(images from George M1GEO and John M5ET respectively)\n",
    "\n"
   ]
  },
  {
   "cell_type": "markdown",
   "metadata": {
    "hideCode": false,
    "hidePrompt": false,
    "slideshow": {
     "slide_type": "fragment"
    }
   },
   "source": [
    "* A common goal in computing the Fourier **transform** is to determine how much energy/signal there is at a given frequency. We will fudge our way into this by starting from the basics..."
   ]
  },
  {
   "cell_type": "markdown",
   "metadata": {
    "hideCode": false,
    "hidePrompt": false,
    "slideshow": {
     "slide_type": "slide"
    }
   },
   "source": [
    "# Towards Fourier Space\n",
    "\n",
    "* May have seen a Maclaurin or Taylor series for approximating a function: \n",
    "$$f(x) = a_0 + a_1 x + a_2 x^2 + a_3 x^3 + ...$$\n",
    "\n",
    "\n",
    "* How might we represent a *periodic function*? We might try <sup>1</sup> \n",
    "\n",
    "$$ f(t) \\approx c + a_1 sin(t) + b_1 cos(t) + a_2 sin(2t) + b_2 cos(2t) + ... $$ \n",
    "\n",
    "<sup>1</sup> Advanced students should explain to their neighbours in the next break why we need both sine and cosine terms here."
   ]
  },
  {
   "cell_type": "markdown",
   "metadata": {
    "hideCode": false,
    "hidePrompt": false,
    "slideshow": {
     "slide_type": "fragment"
    }
   },
   "source": [
    "This is a _Fourier Series_. How do we find $a_i$ and $b_i$? __Orthogonality of sines__"
   ]
  },
  {
   "cell_type": "markdown",
   "metadata": {
    "hideCode": false,
    "hidePrompt": false,
    "slideshow": {
     "slide_type": "subslide"
    }
   },
   "source": [
    "## Orthogonality of Sines"
   ]
  },
  {
   "cell_type": "code",
   "execution_count": 5,
   "metadata": {
    "hideCode": false,
    "hidePrompt": false,
    "slideshow": {
     "slide_type": "fragment"
    }
   },
   "outputs": [
    {
     "name": "stdout",
     "output_type": "stream",
     "text": [
      "\n"
     ]
    },
    {
     "data": {
      "image/png": "[encoded data removed]",
      "text/plain": [
       "<Figure size 360x360 with 1 Axes>"
      ]
     },
     "metadata": {
      "needs_background": "light"
     },
     "output_type": "display_data"
    }
   ],
   "source": [
    "%reset -f\n",
    "import warnings\n",
    "from __future__ import print_function\n",
    "warnings.filterwarnings(\"ignore\")\n",
    "\n",
    "import matplotlib.pyplot as plt\n",
    "import matplotlib \n",
    "import numpy as np\n",
    "import seaborn as sns\n",
    "colour_palette = sns.color_palette(\"colorblind\",3)\n",
    "plt.rcParams['figure.figsize']=[5,5]\n",
    "\n",
    "\n",
    "# fig,ax=plt.subplots(1,2)\n",
    "# ax.plot([0,10],[1,1])\n",
    "# fig.set_size_inches((0.1,0.1),forward=True)\n",
    "\n",
    "def update_m_value(m):\n",
    "#     m = m_slider.val\n",
    "    plt.cla()\n",
    "    y_1 = np.sin(x)\n",
    "    plt.plot(x,y_1,color=colour_palette[0],lw=3.0)\n",
    "    plt.plot([-100,100],[0,0],color='black')\n",
    "    y_2 = np.sin(m*x)\n",
    "    plt.plot(x,y_2,color=colour_palette[1],lw=3.0)\n",
    "    \n",
    "    product = y_1 * y_2\n",
    "    \n",
    "    plt.plot(x,product,color=colour_palette[2],lw=3.0)\n",
    "    plt.fill_between(x,0,product,color=colour_palette[2],lw=3.0)\n",
    "    plt.xlim(-np.pi,np.pi)\n",
    "\n",
    "    plt.yticks([-1,0,1])\n",
    "    plt.xticks([-np.pi,0,np.pi],labels=[\"-π\",0,\"π\"])\n",
    "    #plt.title('$sin(x)sin(kx)$',fontsize=30)\n",
    "    \n",
    "#     mpld3.display(fig,closefig=True)\n",
    "    \n",
    "m = 2\n",
    "\n",
    "# fig,ax = plt.subplots(1,1)\n",
    "x = np.linspace(-np.pi,np.pi,500)\n",
    "y_1 = np.sin(x)\n",
    "\n",
    "update_m_value(5)\n",
    "\n",
    "#add slider for m\n",
    "\n",
    "    \n",
    "\n",
    "# mpld3.display(fig)\n",
    "print()\n"
   ]
  },
  {
   "cell_type": "markdown",
   "metadata": {
    "hideCode": false,
    "hidePrompt": false,
    "slideshow": {
     "slide_type": "fragment"
    }
   },
   "source": [
    "If we multiply a sine or a cosine by $sin(nt)$ and integrate the product over a period, the result is zero if they are at different integer frequencies (whole-number frequencies), and $\\pi$ if they are at the same frequency. \n",
    "\\begin{equation}\\int_{-\\pi}^\\pi sin(n t) sin(m t) dt = \\begin{cases} \n",
    "\\pi & \\forall \\ n = m : n \\in \\mathbb{Z}\\\\\n",
    "0 & n \\neq m\n",
    "\\end{cases}\\end{equation}\n",
    "(the same is true for cos, I promise!)\n",
    "\n",
    "Integrals between sine and cosine are always zero over a period:\n",
    "\\begin{equation}\\int_{-\\pi}^\\pi sin(n x) cos(m x) dx = 0 \\ \\forall  n,m \\in \\mathbb{Z} \\end{equation}\n",
    "\n",
    "* In essence this is a **filter**: we take a function which we assume to be composed of sines and cosines, and we can measure how much of each sine and cosine is in the signal. Because each sine and cosine is at a discrete frequency, this lets us measure the "
   ]
  },
  {
   "cell_type": "markdown",
   "metadata": {
    "hideCode": false,
    "hidePrompt": false,
    "slideshow": {
     "slide_type": "subslide"
    }
   },
   "source": [
    "* Why does this help us?\n",
    "\n",
    "$$ f(t) \\approx c + a_1 sin(t) + b_1 cos(t) + a_2 sin(2t) + b_2 cos(2t) + ... $$ \n",
    "$$ a_n = \\frac{1}{\\pi} \\int_{-\\pi}^\\pi f(t) sin(n t) dt $$\n",
    "$$ b_n = \\frac{1}{\\pi} \\int_{-\\pi}^\\pi f(t) cos(n t) dt $$\n",
    "\n",
    "(plus a DC offset...)\n",
    "\n",
    "\\begin{equation} c = \\frac{1}{2\\pi}\\int_{-\\pi}^{\\pi} f(t) dt \\end{equation}\n",
    "\n"
   ]
  },
  {
   "cell_type": "markdown",
   "metadata": {
    "hideCode": false,
    "hidePrompt": false,
    "slideshow": {
     "slide_type": "subslide"
    }
   },
   "source": [
    "## An example: the square wave\n",
    "\n",
    "\n",
    "* This is a carefully chosen example: why?\n",
    "* Formally: $f(t) = \\begin{cases}\n",
    "-1 & -\\pi < t < 0 \\\\\n",
    "\\hspace{0.6em} 1 & \\hspace{0.6em}  0 \\leq t < \\pi\n",
    "\\end{cases}$\n"
   ]
  },
  {
   "cell_type": "code",
   "execution_count": 6,
   "metadata": {
    "hideCode": false,
    "hidePrompt": false,
    "slideshow": {
     "slide_type": "fragment"
    }
   },
   "outputs": [
    {
     "name": "stdout",
     "output_type": "stream",
     "text": [
      "\n"
     ]
    },
    {
     "data": {
      "image/png": "[encoded data removed]",
      "text/plain": [
       "<Figure size 360x360 with 1 Axes>"
      ]
     },
     "metadata": {
      "needs_background": "light"
     },
     "output_type": "display_data"
    }
   ],
   "source": [
    "\n",
    "import warnings\n",
    "from __future__ import print_function\n",
    "warnings.filterwarnings(\"ignore\")\n",
    "\n",
    "import matplotlib.pyplot as plt\n",
    "import matplotlib \n",
    "import numpy as np\n",
    "import seaborn as sns\n",
    "plt.rcParams['figure.figsize']=[5,5]\n",
    "\n",
    "colour_palette = sns.color_palette(\"colorblind\",3)\n",
    "\n",
    "x = np.linspace(-np.pi,np.pi,500)\n",
    "\n",
    "plt.xlim(-np.pi,np.pi)\n",
    "\n",
    "plt.yticks([-1,0,1])\n",
    "plt.xticks([-np.pi,0,np.pi],labels=[\"-π\",0,\"π\"])\n",
    "y_1 = np.where(x<0,-1.0,1.0)\n",
    "y_1[0] = 0\n",
    "y_1[-1]=0\n",
    "plt.plot(x,y_1,color=colour_palette[0],lw=3.0)\n",
    "print()"
   ]
  },
  {
   "cell_type": "markdown",
   "metadata": {
    "hideCode": false,
    "hidePrompt": false,
    "slideshow": {
     "slide_type": "fragment"
    }
   },
   "source": [
    "* Sine series only: there is __no__ DC offset and __no__ cosine term. (those advanced students can discuss this later too)\n",
    "\n"
   ]
  },
  {
   "cell_type": "markdown",
   "metadata": {
    "hideCode": false,
    "hidePrompt": false,
    "slideshow": {
     "slide_type": "subslide"
    }
   },
   "source": [
    "## Calculating the coefficients\n",
    "\n",
    "\n",
    "$$a_1 =  \\frac{1}{\\pi} \\int_{-\\pi}^\\pi f(t) sin(t) dt $$\n",
    "$$ =  \\frac{1}{\\pi}\\left[ \\int_{-\\pi}^0 -1 sin(t) dt + \\int_{0}^\\pi 1 sin(t) dt \\right] = \\frac{4}{\\pi}$$"
   ]
  },
  {
   "cell_type": "code",
   "execution_count": 7,
   "metadata": {
    "hideCode": false,
    "hidePrompt": false,
    "slideshow": {
     "slide_type": "fragment"
    }
   },
   "outputs": [
    {
     "name": "stdout",
     "output_type": "stream",
     "text": [
      "\n"
     ]
    },
    {
     "data": {
      "image/png": "[encoded data removed]",
      "text/plain": [
       "<Figure size 360x360 with 1 Axes>"
      ]
     },
     "metadata": {
      "needs_background": "light"
     },
     "output_type": "display_data"
    }
   ],
   "source": [
    "%reset -f\n",
    "import warnings\n",
    "from __future__ import print_function\n",
    "warnings.filterwarnings(\"ignore\")\n",
    "\n",
    "import matplotlib.pyplot as plt\n",
    "import matplotlib \n",
    "import numpy as np\n",
    "import seaborn as sns\n",
    "colour_palette = sns.color_palette(\"colorblind\",3)\n",
    "plt.rcParams['figure.figsize']=[5,5]\n",
    "\n",
    "\n",
    "\n",
    "\n",
    "\n",
    "fig,ax=plt.subplots(1,1)\n",
    "# ax.plot([0,10],[1,1])\n",
    "# fig.set_size_inches((0.1,0.1),forward=True)\n",
    "\n",
    "def update_m_value(m):\n",
    "#     m = m_slider.val\n",
    "    plt.cla()\n",
    "    y_1 = np.where(x<0,-1.0,1.0)\n",
    "    y_1[0] = 0\n",
    "    y_1[-1]=0\n",
    "    plt.plot(x,y_1,color=colour_palette[0],lw=3.0)\n",
    "#     plt.plot([-100,100],[0,0],color='black')\n",
    "    y_2 = np.sin(m*x)\n",
    "    plt.plot(x,y_2,color=colour_palette[1],lw=3.0)\n",
    "    \n",
    "    product = y_1 * y_2\n",
    "    \n",
    "    plt.plot(x,product,color=colour_palette[2],lw=3.0)\n",
    "    plt.fill_between(x,0,product,color=colour_palette[2],lw=3.0)\n",
    "    plt.xlim(-np.pi,np.pi)\n",
    "\n",
    "    plt.yticks([-1,0,1])\n",
    "    plt.xticks([-np.pi,0,np.pi],labels=[\"-π\",0,\"π\"])\n",
    "    #plt.title('$sin(x)sin(kx)$',fontsize=30)\n",
    "    \n",
    "    \n",
    "m = 2\n",
    "\n",
    "# fig,ax = plt.subplots(1,1)\n",
    "x = np.linspace(-np.pi,np.pi,500)\n",
    "y_1 = np.sin(x)\n",
    "\n",
    "update_m_value(5)\n",
    "\n",
    "#add slider for m\n",
    "\n",
    "    \n",
    "\n",
    "# mpld3.display(fig)\n",
    "print()"
   ]
  },
  {
   "cell_type": "markdown",
   "metadata": {
    "hideCode": false,
    "hidePrompt": false,
    "slideshow": {
     "slide_type": "fragment"
    }
   },
   "source": [
    "$$a_2 =  \\frac{1}{\\pi} \\int_{-\\pi}^\\pi f(t) sin(2t) dt $$\n",
    "$$ =  \\frac{1}{\\pi}\\left[ \\int_{-\\pi}^0 -1 sin(2t) dt + \\int_{0}^\\pi 1 sin(2t) dt \\right] = 0$$\n"
   ]
  },
  {
   "cell_type": "markdown",
   "metadata": {
    "hideCode": false,
    "hidePrompt": false,
    "slideshow": {
     "slide_type": "fragment"
    }
   },
   "source": [
    "$$a_3 =  \\frac{1}{\\pi} \\int_{-\\pi}^\\pi f(t) sin(3t) dt $$\n",
    "$$ =  \\frac{1}{\\pi}\\left[ \\int_{-\\pi}^0 -1 sin(3t) dt + \\int_{0}^\\pi 1 sin(3t) dt \\right] = \\frac{4}{3\\pi}$$\n"
   ]
  },
  {
   "cell_type": "markdown",
   "metadata": {
    "hideCode": false,
    "hidePrompt": false,
    "slideshow": {
     "slide_type": "subslide"
    }
   },
   "source": [
    "(...many hours later...)"
   ]
  },
  {
   "cell_type": "markdown",
   "metadata": {
    "hideCode": false,
    "hidePrompt": false,
    "slideshow": {
     "slide_type": "subslide"
    }
   },
   "source": [
    "Instead of working out each term, we could find a general expression:\n",
    "(an identity that makes it much easier!)\n",
    "$$ \\int_a^b sin(nt) dt = -\\frac{1}{n} \\left[cos(nt)\\right]^b_a$$\n",
    "$$cos(n \\pi) = \\begin{cases}\n",
    " 1 & \\text{even} \\ n \\\\\n",
    "-1 & \\text{odd}\\  n\n",
    "\\end{cases}$$\n",
    "\n",
    "Skipping some algebra (if you enjoy that sort of thing, fair enough...), it turns out that:\n",
    "\n",
    "$$a_n = \\begin{cases}\n",
    "0 & \\text{even n}\\\\\n",
    "\\frac{4}{n \\pi} & \\text{odd n}\n",
    "\\end{cases}\n",
    "$$\n",
    "\n",
    "So the Fourier Series for the square wave is $$f(t) =\\sum_{\\rm{All\\ odd\\ n}} \\frac{4}{n\\pi} sin(n t)$$\n",
    "\n",
    "The following graphic illustrates this for a finite number $m$ of sines...\n"
   ]
  },
  {
   "cell_type": "code",
   "execution_count": 8,
   "metadata": {
    "hideCode": false,
    "hidePrompt": false,
    "slideshow": {
     "slide_type": "subslide"
    }
   },
   "outputs": [
    {
     "name": "stdout",
     "output_type": "stream",
     "text": [
      "\n"
     ]
    },
    {
     "data": {
      "image/png": "[encoded data removed]",
      "text/plain": [
       "<Figure size 360x360 with 1 Axes>"
      ]
     },
     "metadata": {
      "needs_background": "light"
     },
     "output_type": "display_data"
    }
   ],
   "source": [
    "%reset -f\n",
    "import warnings\n",
    "from __future__ import print_function\n",
    "warnings.filterwarnings(\"ignore\")\n",
    "\n",
    "import matplotlib.pyplot as plt\n",
    "import matplotlib \n",
    "import numpy as np\n",
    "import seaborn as sns\n",
    "colour_palette = sns.color_palette(\"colorblind\",3)\n",
    "plt.rcParams['figure.figsize']=[5,5]\n",
    "\n",
    "\n",
    "colour_palette = sns.color_palette(\"colorblind\",3)\n",
    "\n",
    "\n",
    "fig,ax=plt.subplots(1,1)\n",
    "# ax.plot([0,10],[1,1])\n",
    "# fig.set_size_inches((0.1,0.1),forward=True)\n",
    "\n",
    "def update_m_value(m):\n",
    "#     m = m_slider.val\n",
    "    plt.cla()\n",
    "    y_1 = np.where(x<0,-1.0,1.0)\n",
    "    y_1[0] = 0\n",
    "    y_1[-1]=0\n",
    "    plt.plot(x,y_1,color=colour_palette[0],lw=3.0)\n",
    "#     plt.plot([-100,100],[0,0],color='black')\n",
    "    bases = np.linspace(1,m,m)\n",
    "    \n",
    "    sin_coefficients = np.where(bases%2==0,0,4 /(bases*np.pi)) \n",
    "    sinusoids = np.sin(x*np.reshape(bases,(-1,1)))\n",
    "    y_2 = np.sum(np.reshape(sin_coefficients,(-1,1))*sinusoids,axis=0)\n",
    "    plt.plot(x,y_2,color=colour_palette[1],lw=3.0)\n",
    "    \n",
    "    plt.xlim(-np.pi,np.pi)\n",
    "\n",
    "    plt.yticks([-1,0,1])\n",
    "    plt.xticks([-np.pi,0,np.pi],labels=[\"-π\",0,\"π\"])\n",
    "    #plt.title('$sin(x)sin(kx)$',fontsize=30)\n",
    "\n",
    "    \n",
    "m = 2\n",
    "\n",
    "# fig,ax = plt.subplots(1,1)\n",
    "x = np.linspace(-np.pi,np.pi,500)\n",
    "y_1 = np.sin(x)\n",
    "\n",
    "update_m_value(5)\n",
    "\n",
    "\n",
    "\n",
    "# mpld3.display(fig)\n",
    "print()"
   ]
  },
  {
   "cell_type": "markdown",
   "metadata": {
    "hideCode": false,
    "hidePrompt": false,
    "slideshow": {
     "slide_type": "fragment"
    }
   },
   "source": [
    "_The ringing around the transitions in this graphic is referred to as the Gibbs Phenomenon._"
   ]
  },
  {
   "cell_type": "markdown",
   "metadata": {
    "hideCode": false,
    "hidePrompt": false,
    "slideshow": {
     "slide_type": "subslide"
    }
   },
   "source": [
    "* In practice, Fourier techniques use complex exponentials combining sine and cosine in one term. Easier to integrate and more compact: $e^{i \\theta} = cos(\\theta) + i sin(\\theta)$ (Euler's Formula). This necessitates the use of complex numbers: no explanation will be given here, but when you see $e^{i \\theta}$ in the following slides, consider that it is simply a convenient way of bundling the sine and cosine terms into one term to make life easier.\n",
    "\n",
    "\n",
    "* For discrete signals, we pretend the signal is periodic; calculating the Fourier series is then referred to as the \"discrete Fourier transform\".\n"
   ]
  },
  {
   "cell_type": "markdown",
   "metadata": {
    "hideCode": false,
    "hidePrompt": false,
    "slideshow": {
     "slide_type": "subslide"
    }
   },
   "source": [
    "# Adding Complexity\n",
    "### (or complex numbers, anyway)\n",
    "You may recall that you can't square-root a negative number: after all, $(-2)^2 = + 4$, so it's obvious that nothing square-roots to a negative number...right? For mathematical convenience, an additional _field_ of numbers is defined called the \"complex numbers\" where this is possible. A complex number is written $a + b i$, where:\n",
    "\n",
    "$$ i = \\sqrt{-1}$$\n",
    "$$ i^2 = -1$$\n",
    "\n",
    "Conveniently, this allows the use of Euler's Formula:\n",
    "$$ e ^ {i \\theta} = cos(\\theta) + i sin(\\theta)$$\n",
    "\n",
    "which combines both the sine and cosine terms in such a way that we can do half the work in finding Fourier coefficients!\n"
   ]
  },
  {
   "cell_type": "markdown",
   "metadata": {
    "hideCode": false,
    "hidePrompt": false,
    "slideshow": {
     "slide_type": "fragment"
    }
   },
   "source": [
    "We might _intuitively_ suspect that, if $e^{i \\theta}$ is a mixture of sines and cosines, we can represent our old friend the Fourier Series in this fashion. Sure enough, (without proof), \n",
    "\n",
    "$$f(t) = \\sum_{n=0}^{\\infty} a_n e^{i n t} $$\n",
    "\n",
    "$$ a_n = \\frac{1}{2 \\pi} \\int_{-\\pi}^{\\pi} f(t) e^{-i n t} dt $$\n",
    "\n",
    "N.B. advanced students might wonder why we can bundle the coefficients into one here when earlier we had to separate the sine and cosine terms: remember that the coefficients are now complex as well."
   ]
  },
  {
   "cell_type": "markdown",
   "metadata": {
    "hideCode": false,
    "hidePrompt": false,
    "slideshow": {
     "slide_type": "subslide"
    }
   },
   "source": [
    "## Arbitrary Periods\n",
    "\n",
    "\n",
    "* Why limit ourselves to integrating over the interval $[-\\pi, \\pi ]$ ? \n",
    "* Use simple algebra to make the period $T$ instead of $2 \\pi$...\n",
    "* In short, make $t$ go through a range of $2 \\pi$ radians in $T$ seconds: multiply by $\\frac{2 \\pi}{T}$ and iron out the constants!\n",
    "\n",
    "\n",
    "$$f(t) = \\sum_{n=0}^{\\infty} a_n e^{i n  \\ \\times \\  \\frac{2\\pi t}{T}} $$\n",
    "\n",
    "$$ a_n = \\frac{1}{T} \\int_{-T/2}^{T/2} f(t) e^{-i n  \\ \\times \\frac{2 \\pi t}{T}} dt $$"
   ]
  },
  {
   "cell_type": "markdown",
   "metadata": {
    "hideCode": false,
    "hidePrompt": false,
    "slideshow": {
     "slide_type": "fragment"
    }
   },
   "source": [
    "* This is **all** we need to do before we can move to the Fourier **transform**!"
   ]
  },
  {
   "cell_type": "markdown",
   "metadata": {
    "hideCode": false,
    "hidePrompt": false,
    "slideshow": {
     "slide_type": "slide"
    }
   },
   "source": [
    "# Fourier Transform\n",
    "### Problem\n",
    "* We want to find the frequency content of an aperiodic function\n",
    "* We do not expect the function to be representable by a sum of discrete frequency trig functions/complex exponentials...\n",
    "* We will define the time function $f(t)$ and its corresponding Fourier transform $\\tilde{F}(k)$ (where $k$ is the frequency in units of $[\\frac{1}{[t]}]$)\n",
    "\n",
    "* To represent the operation of taking the Fourier transform, we will write\n",
    "$$\\tilde{F}(k) = \\mathcal{F}\\left[ f(t)\\right]$$\n",
    "\n",
    "* There also exists an _inverse_ Fourier transform:\n",
    "$$ f(t) = \\mathcal{F}^{-1} \\left[ \\tilde{F}(k)\\right]$$"
   ]
  },
  {
   "cell_type": "markdown",
   "metadata": {
    "hideCode": false,
    "hidePrompt": false,
    "slideshow": {
     "slide_type": "subslide"
    }
   },
   "source": [
    "_The algebra in this slide is fiddly: ignore the details unless you find them obvious and work them out later. Focus on the concepts._\n",
    "\n",
    "\n",
    "Begin with the Fourier Series for a function of period $T$.\n",
    "\n",
    "$$f(t) = \\sum_{n=0}^{\\infty} a_n e^{i n t \\ \\times \\  \\frac{2\\pi}{T}} $$\n",
    "\n",
    "$$ a_n = \\frac{1}{T} \\int_{-T/2}^{T/2} f(t) e^{-i n t \\ \\times \\frac{2 \\pi}{T}} dt $$\n"
   ]
  },
  {
   "cell_type": "markdown",
   "metadata": {
    "hideCode": false,
    "hidePrompt": false,
    "slideshow": {
     "slide_type": "notes"
    }
   },
   "source": [
    "\n",
    "* Define a new variable $k=\\frac{ n}{T}$. \n",
    "* It follows that $n = kT$. \n",
    "\n",
    "_(there is no key concept in this - just a constant relationship defined for algebraic convenience)_\n"
   ]
  },
  {
   "cell_type": "markdown",
   "metadata": {
    "hideCode": false,
    "hidePrompt": false,
    "slideshow": {
     "slide_type": "fragment"
    }
   },
   "source": [
    "\n",
    "* Replace $a_n$ with some function that yields the same coefficients: let's call it $\\tilde{F}(k)$. \n",
    "\n",
    "* The sum incremented n by 1 each pass. Incrementing $k$ by 1 is equivalent to incrementing $n$ by $T$, so we write $a_n = \\tilde{F}(k) \\delta k$. For equivalence, $\\delta k = \\frac{1}{T}$\n",
    "\n",
    "_We're subtly preparing for a move from discrete 'frequencies' $n$ to continuous values $k$. For now, we 'discretise' the continuous value by multiplying by $\\delta k$ and fiddle with the algebra so that it is exactly equivalent to the Fourier series. Remember the Riemann integral earlier?_\n"
   ]
  },
  {
   "cell_type": "code",
   "execution_count": 9,
   "metadata": {
    "hideCode": false,
    "hidePrompt": false,
    "slideshow": {
     "slide_type": "fragment"
    }
   },
   "outputs": [
    {
     "name": "stdout",
     "output_type": "stream",
     "text": [
      "\n"
     ]
    },
    {
     "data": {
      "image/png": "[encoded data removed]",
      "text/plain": [
       "<Figure size 360x360 with 1 Axes>"
      ]
     },
     "metadata": {
      "needs_background": "light"
     },
     "output_type": "display_data"
    }
   ],
   "source": [
    "import warnings\n",
    "from __future__ import print_function\n",
    "warnings.filterwarnings(\"ignore\")\n",
    "\n",
    "import matplotlib.pyplot as plt\n",
    "import matplotlib \n",
    "import numpy as np\n",
    "import seaborn as sns\n",
    "colour_palette = sns.color_palette(\"colorblind\",3)\n",
    "plt.figure()\n",
    "plt.rcParams['figure.figsize']=[5,5]\n",
    "\n",
    "t = np.linspace(0,10,1000)\n",
    "s = np.sin(t)+2 \n",
    "plt.plot(t,s,lw=2,color=colour_palette[2],linestyle='-')\n",
    "t_points = np.linspace(0,10,11)\n",
    "s_points = np.sin(t_points)+2\n",
    "plt.scatter(t_points,s_points,color=colour_palette[2])\n",
    "for (x,y) in zip(t_points,s_points):\n",
    "    plt.plot([x,x],[0,y],color='black')\n",
    "    plt.fill_between([x,x+1],0,[y,y],alpha=0.5,color=colour_palette[1])\n",
    "\n",
    "\n",
    "\n",
    "plt.xticks([0,5,10])\n",
    "plt.yticks([0,1.5,3])\n",
    "plt.xlim([0,10])\n",
    "plt.ylim([0,3.1])\n",
    "# plt.grid(True)\n",
    "print()"
   ]
  },
  {
   "cell_type": "markdown",
   "metadata": {
    "hideCode": false,
    "hidePrompt": false,
    "slideshow": {
     "slide_type": "fragment"
    }
   },
   "source": [
    "\n",
    "$$f(t) = \\sum_{k=0}^{\\infty} \\tilde{F}(k)\\delta k \\  e^{i t \\ \\times kT \\ \\times \\  \\frac{2\\pi}{T}} $$\n",
    "\n",
    "$$ = \\sum_{k=0}^{\\infty} \\tilde{F}(k)\\delta k \\  e^{2 \\pi i t k} $$"
   ]
  },
  {
   "cell_type": "markdown",
   "metadata": {
    "hideCode": false,
    "hidePrompt": false,
    "slideshow": {
     "slide_type": "fragment"
    }
   },
   "source": [
    "* Remember that  $\\delta k = \\frac{1}{T}$. \n",
    "* What about an aperiodic function: $T \\to \\infty$ ??\n",
    "* We can take the _limit_ of this, as $\\delta k \\to 0$.\n",
    "\n",
    "\n",
    "_Concept: as the function becomes aperiodic, the increment in frequency becomes infinitessimal: we end up with a **continuous frequency spectrum**._"
   ]
  },
  {
   "cell_type": "markdown",
   "metadata": {
    "hideCode": false,
    "hidePrompt": false,
    "slideshow": {
     "slide_type": "fragment"
    }
   },
   "source": [
    "$$f(t) = \\lim_{\\delta k \\to 0} \\left( \\sum_{k=0}^\\infty \\tilde{F}(k) \\delta k e^{2 \\pi itk} \\right)$$\n",
    "* This is just like the sum converging to an integral from earlier!\n",
    "\n",
    "$$f(t) = \\int_{-\\infty}^\\infty \\tilde{F}(k) e^{2 \\pi itk} dk $$\n",
    "\n",
    "_This is the inverse Fourier Transform: what we've just written is equivalent to_$ f(t) = \\mathcal{F}^{-1} (\\tilde{F}(k))$\n",
    " "
   ]
  },
  {
   "cell_type": "markdown",
   "metadata": {
    "hideCode": false,
    "hidePrompt": false,
    "slideshow": {
     "slide_type": "subslide"
    }
   },
   "source": [
    "## Fourier, finally!\n",
    "### Forward\n",
    "$$ \\tilde{F}(k) = \\int_{-\\infty}^{\\infty} f(t) e^{-2 \\pi itk} dt$$\n",
    "\n",
    "### Inverse\n",
    "$$f(t) = \\int_{-\\infty}^\\infty \\tilde{F}(k) e^{2 \\pi itk} dk $$\n"
   ]
  },
  {
   "cell_type": "markdown",
   "metadata": {
    "hideCode": false,
    "hidePrompt": false,
    "slideshow": {
     "slide_type": "fragment"
    }
   },
   "source": [
    "But there's always a catch. \n",
    "\n",
    "* Can we integrate over infinite time? Rather an expensive operation...\n",
    "* What about sampled signals? Then we need a sum again! In fact, the \"discrete time Fourier transform\" is really just a Fourier series, where we pretend the sampled signal is periodic...\n",
    "* No time to look at the detail of the solutions. \n"
   ]
  },
  {
   "cell_type": "markdown",
   "metadata": {
    "hideCode": false,
    "hidePrompt": false
   },
   "source": [
    "# Just a moment:\n",
    "\n",
    "### What does the \"frequency domain\"/\"time domain\" mean?\n",
    "* I said earlier that you should be familiar with the waterfall display on a radio and that this was from the Fourier transform: this was not entirely transparent.\n",
    "* The Fourier Transform provides a direct mapping between the frequency and time domains.\n",
    "* Both the spectrum $\\tilde{F}(k)$ and the time domain signal $f(t)$ represent a signal completely.\n",
    "* The Fourier transform is **not quite** what you see on a waterfall: it covers the **whole** signal.\n",
    "* Waterfall is generated by the STFT: Short Time Fourier Transform. Basically, slide a window over the time-domain signal and take the Fourier transform of the data in each window to form a row of the waterfall.\n",
    "\n",
    "An example with a Morse letter A, at a carrier frequency of 15Hz\n",
    "* The Fourier transform produces signed (positive and negative) frequencies; for our applications here these are the same.\n",
    "* We turn the sine wave carrier for the Morse character on and off instantly; this is bad practice because it generates lots of harmonics. You can see these in the Fourier transform and even in the waterfall: around each edge, the harmonics generated radiate outwards across the 'band'. \n"
   ]
  },
  {
   "cell_type": "code",
   "execution_count": 10,
   "metadata": {
    "hideCode": false,
    "hidePrompt": false
   },
   "outputs": [
    {
     "name": "stdout",
     "output_type": "stream",
     "text": [
      "\n"
     ]
    },
    {
     "data": {
      "image/png": "[encoded data removed]",
      "text/plain": [
       "<Figure size 360x360 with 3 Axes>"
      ]
     },
     "metadata": {
      "needs_background": "light"
     },
     "output_type": "display_data"
    }
   ],
   "source": [
    "\n",
    "import warnings\n",
    "from __future__ import print_function\n",
    "warnings.filterwarnings(\"ignore\")\n",
    "\n",
    "import matplotlib.pyplot as plt\n",
    "import matplotlib \n",
    "import numpy as np\n",
    "import seaborn as sns\n",
    "\n",
    "\n",
    "import scipy\n",
    "import scipy.signal\n",
    "plt.rcParams['figure.figsize']=[5,5]\n",
    "fig,(ax1,ax2,ax3) = plt.subplots(3,1)\n",
    "colour_palette = sns.color_palette(\"colorblind\",3)\n",
    "plt.subplots_adjust(hspace=0.2)\n",
    "x = np.linspace(0,5,5000)\n",
    "y = [0]*len(x)\n",
    "y = np.sin(15*np.pi*2*x)\n",
    "y = np.where(((x>1.5) & (x<3.0)) | ((x>0.5) & (x<1.0)),y,0)\n",
    "\n",
    "# h = scipy.signal.firwin(50,55,fs=1000)\n",
    "# y=np.convolve(y,h)\n",
    "ax1.plot(x,y[0:len(x)],color=colour_palette[0],lw=3.0)\n",
    "ax1.set_xlabel(\"Time (s)\")\n",
    "ax1.set_ylabel(\"Signal level\")\n",
    "ax2.plot(np.fft.fftfreq(len(y),0.001),np.abs(np.fft.fft(y)))\n",
    "ax2.set_ylabel(\"Signal level\")\n",
    "ax2.set_xlim(-50,50)\n",
    "ax2.set_xlabel(\"Frequency (Hz)\")\n",
    "\n",
    "f,t,zxx = scipy.signal.stft(y,fs=1000)\n",
    "ax3.pcolormesh(f,t, np.abs(zxx.transpose()))\n",
    "ax3.set_ylabel(\"Time (s)\",labelpad=20)\n",
    "ax3.set_xlabel(\"Frequency (Hz)\")\n",
    "ax3.set_xlim(0,50)\n",
    "print()"
   ]
  },
  {
   "cell_type": "markdown",
   "metadata": {
    "hideCode": false,
    "hidePrompt": false,
    "slideshow": {
     "slide_type": "slide"
    }
   },
   "source": [
    "# Sampling Theorem\n",
    "\n",
    "* Consider a continuous signal $f(t)$ such that the bandwidth of the signal is $W$\n",
    "* We want to obtain a digital representation by sampling it at discrete intervals, say every $T$ seconds. \n",
    "* The snappily titled \"Whittaker–Nyquist–Kotelnikov–Shannon Sampling Theorem\" (\"The Sampling Theorem\", as Shannon calls it) gives us glad tidings: we don't lose anything if we chose $T < \\frac{1}{2W}$. \n",
    "\n",
    "\n",
    "* (or equivalently the **sampling frequency** $f_s > 2W$"
   ]
  },
  {
   "cell_type": "code",
   "execution_count": 11,
   "metadata": {
    "hideCode": false,
    "hidePrompt": false,
    "slideshow": {
     "slide_type": "subslide"
    }
   },
   "outputs": [
    {
     "name": "stdout",
     "output_type": "stream",
     "text": [
      "\n"
     ]
    },
    {
     "data": {
      "image/png": "[encoded data removed]",
      "text/plain": [
       "<Figure size 360x360 with 1 Axes>"
      ]
     },
     "metadata": {
      "needs_background": "light"
     },
     "output_type": "display_data"
    }
   ],
   "source": [
    "%reset -f\n",
    "import warnings\n",
    "from __future__ import print_function\n",
    "warnings.filterwarnings(\"ignore\")\n",
    "\n",
    "import matplotlib.pyplot as plt\n",
    "import matplotlib \n",
    "import numpy as np\n",
    "import seaborn as sns\n",
    "colour_palette = sns.color_palette(\"colorblind\",3)\n",
    "plt.rcParams['figure.figsize']=[5,5]\n",
    "\n",
    "\n",
    "fig,ax=plt.subplots(1,1)\n",
    "# ax.plot([0,10],[1,1])\n",
    "# fig.set_size_inches((0.1,0.1),forward=True)\n",
    "\n",
    "def update_m_value(m):\n",
    "    plt.cla()\n",
    "    freq = 1*2*np.pi\n",
    "    offset = 2\n",
    "    x_samples = np.arange(0,10,(1/m))\n",
    "    x = np.linspace(0,10,1000)\n",
    "    plt.plot(x,np.sin(freq*x)+offset,color=colour_palette[0],alpha=0.4,linestyle=\"-\")\n",
    "    plt.scatter(x_samples,np.sin(freq*x_samples)+offset,color=\"black\",s=300) #weight?\n",
    "    plt.ylim([0,3])\n",
    "    plt.plot(x_samples,np.sin(freq*x_samples)+offset,color=colour_palette[1],alpha=0.7,lw=2)\n",
    "#     for xi in x_samples:\n",
    "#         plt.plot([xi,xi],[0,np.sin(freq*xi)+offset],color=\"black\")\n",
    "\n",
    "    \n",
    "m = 2\n",
    "\n",
    "# fig,ax = plt.subplots(1,1)\n",
    "x = np.linspace(-np.pi,np.pi,500)\n",
    "y_1 = np.sin(x)\n",
    "\n",
    "update_m_value(2.5)\n",
    "\n",
    "#add slider for m\n",
    "\n",
    "    # mpld3.display(fig)\n",
    "print()"
   ]
  },
  {
   "cell_type": "markdown",
   "metadata": {
    "hideCode": false,
    "hidePrompt": false,
    "slideshow": {
     "slide_type": "subslide"
    }
   },
   "source": [
    "## Proof\n",
    "* We can prove this using the theory of Fourier series and transforms we've just worked out. \n",
    "* Recall that a periodic function is described completely by the coefficients of its Fourier series...\n",
    "$$f(t) = \\sum_{n=0}^{\\infty} a_n e^{i n t \\ \\times \\  \\frac{2\\pi}{T}} $$\n",
    "* Recall that the inverse Fourier Transform lets us find the time domain function given the Fourier transformed value...\n",
    "$$ f(t) = \\mathcal{F}^{-1} [ \\tilde{F}(k) ]$$"
   ]
  },
  {
   "cell_type": "markdown",
   "metadata": {
    "hideCode": false,
    "hidePrompt": false,
    "slideshow": {
     "slide_type": "subslide"
    }
   },
   "source": [
    "$$f(t) = \\int_{-\\infty}^{\\infty} \\tilde{F}(k) e^{2 \\pi i t k} dk$$\n",
    "_The time-domain function is given by the inverse Fourier transform of the frequency-domain function._"
   ]
  },
  {
   "cell_type": "markdown",
   "metadata": {
    "hideCode": false,
    "hidePrompt": false,
    "slideshow": {
     "slide_type": "fragment"
    }
   },
   "source": [
    "$$= \\int_{-W}^{W} \\tilde{F}(k) e^{2 \\pi i t k} dk$$\n",
    "_The signal is band-limited to frequencies between 0 and W units; as there's nothing outside this interval, we can change the limits with no ill effect. Note that frequency as commonly referred to is always positive, but in this context is signed: we integrate from $-W$ to $W$._"
   ]
  },
  {
   "cell_type": "markdown",
   "metadata": {
    "hideCode": false,
    "hidePrompt": false,
    "slideshow": {
     "slide_type": "fragment"
    }
   },
   "source": [
    "* Let us _sample_ at $t = \\frac{n}{2W}$ where $n$ is the sample index. \n",
    "* (i.e. sampling interval = $\\frac{1}{2W}$, so sampling frequency = $2W$). \n",
    "\n",
    "$$f(\\frac{n}{2W}) = \\int_{-W}^{W} \\tilde{F}(k) e^{2 \\pi i k \\frac{n}{2W}} dk$$\n"
   ]
  },
  {
   "cell_type": "markdown",
   "metadata": {
    "hideCode": false,
    "hidePrompt": false,
    "slideshow": {
     "slide_type": "subslide"
    }
   },
   "source": [
    "### Now Step Back\n",
    "* Imagine we want to find the Fourier **series** of $\\tilde{F}(k)$ (odd thing to do??)\n",
    "\n",
    "\n",
    "_$\\tilde{F}(k)$ is a function just like any other; if it is periodic with period 2W, we can represent it by a Fourier series just like earlier._"
   ]
  },
  {
   "cell_type": "markdown",
   "metadata": {
    "hideCode": false,
    "hidePrompt": false,
    "slideshow": {
     "slide_type": "fragment"
    }
   },
   "source": [
    "\n",
    "$$ \\tilde{F}(k) = \\sum_{n=0}^{\\infty} a_n e^{i n  \\ \\times \\  \\frac{2\\pi k}{2W}} $$\n",
    "\n",
    "$$ a_n = \\frac{1}{2W} \\int_{-W}^{W} \\tilde{F}(k) e^{-i n  \\ \\times \\frac{2 \\pi k}{2W}} dk $$\n",
    "\n"
   ]
  },
  {
   "cell_type": "markdown",
   "metadata": {
    "hideCode": false,
    "hidePrompt": false,
    "slideshow": {
     "slide_type": "subslide"
    }
   },
   "source": [
    "### That looks familiar. \n",
    "\n",
    "We find the coefficients are\n",
    "$$ a_n = \\frac{1}{2W} \\int_{-W}^{W} \\tilde{F}(k) e^{-i n  \\ \\times \\frac{2 \\pi k}{2W}} dk $$\n",
    "\n",
    "But imagine we take the earlier expression for the inverse Fourier transform of $\\tilde{F}(k)$ and \"sample\" the signal by measuring at times $t = \\frac{n}{2W}$ (such that $n$ is a sample index). In other words, we measure the signal at these moments; throw in a minus sign for mathematical convenience (such that the sample numbering runs 'backwards' - it is arbitrary so who cares) and we end up with this:\n",
    "\n",
    "$$f\\left(\\frac{-n}{2W}\\right) = \\int_{-W}^{W} \\tilde{F}(k) e^{-2 \\pi i k \\frac{n}{2W}} dk$$\n",
    "\n",
    "In words, the sampled time-domain function exactly defines the Fourier series of the frequency spectrum:\n",
    "\n",
    "$$f\\left(\\frac{-n}{2W}\\right) = a_n $$\n",
    "\n",
    "_It turns out that the samples at $t=\\frac{n}{2W}$ are equal to the coefficients of a Fourier Series for $\\tilde{F}(k)$: we can reconstruct the spectrum from this Fourier series, and since the signal is band-limited the spectrum is effectively periodic; we know that we can recover the full time-domain signal (including at times we **did not measure it**) by taking the inverse Fourier transform of the spectrum, $f(t) = \\mathcal{F}^{-1}(\\tilde{F}(k))$, so we're done!_\n",
    "\n",
    "This proof is given in Claude Shannon's (a titan of information theory) famous paper \"Communication in the Presence of Noise\", section II: see https://web.archive.org/web/20100208112344/http://www.stanford.edu/class/ee104/shannonpaper.pdf "
   ]
  },
  {
   "cell_type": "markdown",
   "metadata": {
    "hideCode": false,
    "hidePrompt": false,
    "slideshow": {
     "slide_type": "subslide"
    }
   },
   "source": [
    "## Anti-Aliasing & Reconstruction Filters\n",
    "\n",
    "* The Sampling Theorem suggests two constraints: one at the ADC, one at the DAC.\n",
    "\n",
    "* ADC input signal must be band-limited: an \"anti-aliasing\" filter is required on the input. \n",
    "    * Filters aren't perfect: need wider bandwidth to allow for rolloff.\n",
    "    * N.B. (advanced note) The criterion is that the **bandwidth** is limited, not that the **frequency** is limited: oversampling.\n",
    "    \n",
    "\n",
    "* DAC output signal must be band-limited: a \"reconstruction filter\" is used. \n",
    "\n",
    "You see this in a typical software-defined radio architecture: there is a low-pass or band-pass filter before the ADC, and a low-pass filter after the DAC.\n",
    "<center><img src=\"SDR_block_diagram.jpg\" width=300px/></center>\n"
   ]
  },
  {
   "cell_type": "markdown",
   "metadata": {
    "hideCode": false,
    "hidePrompt": false,
    "slideshow": {
     "slide_type": "slide"
    }
   },
   "source": [
    "# Recap\n",
    "* An integral is the area under a curve between two points, $\\int_a^b f(t) dt$\n",
    "\n",
    "\n",
    "* The area under the product of two sinusoids at integer frequencies is zero unless they are at the same frequency (integrating over an integer number of periods).\n",
    "* Thus we can measure the \"amount\" of a function at a given frequency. \n",
    "* From this we derived the idea of a Fourier series: represent a periodic signal as a sum of content at the harmonic frequencies.\n",
    "* We modified the Fourier Series into a transform that works for aperiodic signals by letting the period tend to infinity and tweaking the form of the coefficients into a \"spectrum\". \n",
    "\n",
    "\n",
    "* Given the tools of the Fourier Series & the Fourier Transform, we proved that sampling a signal \"at an adequate sampling frequency\" loses no information.\n",
    "\n",
    "\n",
    "* Now satisfied that our sampled signal is a good representation, what can we do with it?\n",
    "\n"
   ]
  },
  {
   "cell_type": "markdown",
   "metadata": {
    "hideCode": false,
    "hidePrompt": false,
    "slideshow": {
     "slide_type": "fragment"
    }
   },
   "source": [
    "* Filter the digital signal to a bandwidth of $W$... if listening to a CW signal and wanting to filter out an adjacent interferer, a digital filter can be trivially adjusted: an electronic filter might require a new crystal or a variable capacitor."
   ]
  },
  {
   "cell_type": "markdown",
   "metadata": {
    "hideCode": false,
    "hidePrompt": false,
    "slideshow": {
     "slide_type": "subslide"
    }
   },
   "source": [
    "## Hitting a Brick Wall\n",
    "\n",
    "* Ideally we would:\n",
    "    * exclude all frequencies outside $(-W, W)$ \n",
    "    * have gain 1 for frequencies in $(-W,W)$\n",
    "* This is referred to as a \"brick wall filter\": the frequency domain representation of the filter is below in orange, while an example spectrum is plotted in green.\n",
    "    \n",
    "* Practical filters can't do this.\n",
    "\n",
    "We will now take a detour to discover a common mechanism used for digital filters...\n"
   ]
  },
  {
   "cell_type": "code",
   "execution_count": 12,
   "metadata": {
    "hideCode": false,
    "hidePrompt": false,
    "slideshow": {
     "slide_type": "fragment"
    }
   },
   "outputs": [
    {
     "name": "stdout",
     "output_type": "stream",
     "text": [
      "\n"
     ]
    },
    {
     "data": {
      "image/png": "[encoded data removed]",
      "text/plain": [
       "<Figure size 360x360 with 1 Axes>"
      ]
     },
     "metadata": {
      "needs_background": "light"
     },
     "output_type": "display_data"
    }
   ],
   "source": [
    "import warnings\n",
    "from __future__ import print_function\n",
    "warnings.filterwarnings(\"ignore\")\n",
    "\n",
    "import matplotlib.pyplot as plt\n",
    "import matplotlib \n",
    "import numpy as np\n",
    "import seaborn as sns\n",
    "colour_palette = sns.color_palette(\"colorblind\",3)\n",
    "plt.figure()\n",
    "plt.rcParams['figure.figsize']=[5,5]\n",
    "\n",
    "t = np.linspace(0,20,1000)\n",
    "s = np.random.pareto( 40,1000)*30*(1/t)\n",
    "\n",
    "plt.fill_between(t,0,s,alpha=0.7,color=colour_palette[2])\n",
    "plt.fill_between(-t,0,s,alpha=0.7,color=colour_palette[2])\n",
    "\n",
    "plt.fill_between([-10,10],0,[1,1],alpha=0.6,color=colour_palette[1])\n",
    "\n",
    "# plt.plot([x,x],[0,y],color='black')\n",
    "#plt.fill_between([x,x+1],0,[y,y],alpha=0.5,color=colour_palette[1])\n",
    "\n",
    "plt.xticks([-20,-10,0,10,20],[\"-2W\",\"-W\",\"0\",\"W\",\"2W\"])\n",
    "plt.xlim([-20,20])\n",
    "plt.yticks([0,1,2,3])\n",
    "plt.ylim([0,3.1])\n",
    "plt.xlabel(\"Frequency\")\n",
    "plt.ylabel(\"Signal strength\")\n",
    "# plt.grid(True)\n",
    "print()"
   ]
  },
  {
   "cell_type": "markdown",
   "metadata": {
    "hideCode": false,
    "hidePrompt": false,
    "slideshow": {
     "slide_type": "slide"
    }
   },
   "source": [
    "# Acting on Impulse\n",
    "\n",
    "<img src=\"fireworks.jpeg\" width=400px/>"
   ]
  },
  {
   "cell_type": "markdown",
   "metadata": {
    "hideCode": false,
    "hidePrompt": false,
    "slideshow": {
     "slide_type": "subslide"
    }
   },
   "source": [
    "## How Much Smoke?\n",
    "(explanation due with thanks and deference to Prof. Tom Hynes). \n",
    "* Determine how much smoke is in the air at a given moment during a firework display.\n",
    "* Measure one firework..."
   ]
  },
  {
   "cell_type": "code",
   "execution_count": 13,
   "metadata": {
    "hideCode": false,
    "hidePrompt": false,
    "slideshow": {
     "slide_type": "fragment"
    }
   },
   "outputs": [
    {
     "name": "stdout",
     "output_type": "stream",
     "text": [
      "\n"
     ]
    },
    {
     "data": {
      "image/png": "[encoded data removed]",
      "text/plain": [
       "<Figure size 360x360 with 1 Axes>"
      ]
     },
     "metadata": {
      "needs_background": "light"
     },
     "output_type": "display_data"
    }
   ],
   "source": [
    "import warnings\n",
    "from __future__ import print_function\n",
    "warnings.filterwarnings(\"ignore\")\n",
    "\n",
    "import matplotlib.pyplot as plt\n",
    "import matplotlib \n",
    "import numpy as np\n",
    "import seaborn as sns\n",
    "colour_palette = sns.color_palette(\"colorblind\",3)\n",
    "plt.figure()\n",
    "plt.rcParams['figure.figsize']=[5,5]\n",
    "\n",
    "t = np.linspace(0,20,2000)\n",
    "s = 5*np.exp(-0.2*t)\n",
    "plt.plot(t,s,color=colour_palette[2])\n",
    "plt.plot([-5,0,0.001],[0,0,5],color=colour_palette[2])\n",
    "#plt.plot([x,x],[0,y],color='black')\n",
    "#plt.fill_between([x,x+1],0,[y,y],alpha=0.5,color=colour_palette[1])\n",
    "plt.ylabel(\"Smoke (arb. units)\")\n",
    "plt.xlabel(\"Time (s)\")\n",
    "plt.xticks([-5,-0,5,10,15,20])\n",
    "plt.xlim([-5,20])\n",
    "plt.ylim([0,5])\n",
    "plt.title(\"One Firework\")\n",
    "# plt.grid(True)\n",
    "print()"
   ]
  },
  {
   "cell_type": "code",
   "execution_count": 14,
   "metadata": {
    "hideCode": false,
    "hidePrompt": false,
    "slideshow": {
     "slide_type": "notes"
    }
   },
   "outputs": [
    {
     "name": "stdout",
     "output_type": "stream",
     "text": [
      "\n"
     ]
    },
    {
     "data": {
      "image/png": "[encoded data removed]",
      "text/plain": [
       "<Figure size 360x360 with 1 Axes>"
      ]
     },
     "metadata": {
      "needs_background": "light"
     },
     "output_type": "display_data"
    }
   ],
   "source": [
    "import warnings\n",
    "from __future__ import print_function\n",
    "warnings.filterwarnings(\"ignore\")\n",
    "\n",
    "import matplotlib.pyplot as plt\n",
    "import matplotlib \n",
    "import numpy as np\n",
    "import seaborn as sns\n",
    "colour_palette = sns.color_palette(\"colorblind\",3)\n",
    "plt.figure()\n",
    "plt.rcParams['figure.figsize']=[5,5]\n",
    "N_POINTS = 11\n",
    "counts = np.around(np.random.rand(N_POINTS)*10)\n",
    "times = np.linspace(0,100,N_POINTS)\n",
    "\n",
    "plt.scatter(times,counts)\n",
    "\n",
    "#plt.plot([x,x],[0,y],color='black')\n",
    "#plt.fill_between([x,x+1],0,[y,y],alpha=0.5,color=colour_palette[1])\n",
    "plt.ylabel(\"n fireworks\")\n",
    "plt.xlabel(\"Time (s)\")\n",
    "# plt.xticks([-5,-0,5,10,15,20])\n",
    "# plt.xlim([-5,20])\n",
    "plt.title(\"Detonation times\")\n",
    "plt.ylim([0,11])\n",
    "# plt.grid(True)\n",
    "print()"
   ]
  },
  {
   "cell_type": "markdown",
   "metadata": {
    "hideCode": false,
    "hidePrompt": false,
    "slideshow": {
     "slide_type": "notes"
    }
   },
   "source": [
    "## Impulse Responses and Convolution\n",
    "* The amount of smoke produced by one firework is termed the \"impulse response\": here the impulse is the detonation of a firework.\n",
    "* We define an impulse function $\\delta(t)$ (a Dirac delta function) \n",
    "$$ \\int_{-\\infty}^{\\infty} f(t) \\delta(t) dt = f(0)$$\n",
    "* It \"sifts out\" the value at $t=0$.\n",
    "* Note: $\\delta(t - T)$ 'fires' at $t = T$ (i.e. the *argument* is zero)\n",
    "* What a system does after being excited with $\\delta(t)$ is the *impulse response* $h(t)$"
   ]
  },
  {
   "cell_type": "markdown",
   "metadata": {
    "hideCode": false,
    "hidePrompt": false,
    "slideshow": {
     "slide_type": "fragment"
    }
   },
   "source": [
    "## Impulse Responses and Convolution\n",
    "* Here, the impulse is delivered by detonation of the firework; the smoke decays away over time afterwards. \n",
    "* We calculate the total volume of smoke $f(t)$ by summing up all the smoke left in the air from previous firework detonations\n",
    "* Let us say the fireworks go off at times $t=1,2,3...$ in quantity $g(t)$. \n",
    "\n",
    "* Don't be confused: two variables, $\\tau$ and $t$!!! Questionable choice but invariably what are used; take care not to confuse them. $\\tau$ (tau) is just a Greek t...\n",
    "\n"
   ]
  },
  {
   "cell_type": "markdown",
   "metadata": {
    "hideCode": false,
    "hidePrompt": false,
    "slideshow": {
     "slide_type": "fragment"
    }
   },
   "source": [
    "<img src=\"t_shirt.jpg\" width=200px/>\n",
    "<p style=\"font-size:8px\">Based on https://commons.wikimedia.org/wiki/File:Flag_of_Greece.png by user \n",
    "    Chantel</p>"
   ]
  },
  {
   "cell_type": "markdown",
   "metadata": {
    "hideCode": false,
    "hidePrompt": false,
    "slideshow": {
     "slide_type": "subslide"
    }
   },
   "source": [
    "$$ f(t) = \\sum_{\\tau =0} \\left[ h(t - \\tau) g(\\tau) \\right]$$\n",
    "* \"play back\" h(t) each time a firework goes off, and sum up the smoke from **all** the fireworks that have gone off to date\n"
   ]
  },
  {
   "cell_type": "code",
   "execution_count": 15,
   "metadata": {
    "hideCode": false,
    "hidePrompt": false,
    "slideshow": {
     "slide_type": "fragment"
    }
   },
   "outputs": [
    {
     "name": "stdout",
     "output_type": "stream",
     "text": [
      "\n"
     ]
    },
    {
     "data": {
      "image/png": "[encoded data removed]",
      "text/plain": [
       "<Figure size 360x360 with 1 Axes>"
      ]
     },
     "metadata": {
      "needs_background": "light"
     },
     "output_type": "display_data"
    }
   ],
   "source": [
    "SPACED_POINTS = 10000\n",
    "full_timebase = np.linspace(0,100,SPACED_POINTS)\n",
    "plt.figure()\n",
    "padded_detonations = np.zeros(SPACED_POINTS)\n",
    "for time,val in enumerate(counts):\n",
    "    padded_detonations[int(time*SPACED_POINTS/N_POINTS)] = val\n",
    "\n",
    "t = np.linspace(0,20,2000)\n",
    "s = 5*np.exp(-0.2*t)\n",
    "smoke = np.convolve(padded_detonations,s)\n",
    "# plt.plot(full_timebase,padded_detonations,colour_palette[0])\n",
    "plt.fill_between(full_timebase,0,smoke[0:SPACED_POINTS],color=colour_palette[1],alpha=0.5)\n",
    "plt.ylabel(\"Smoke volume (arb. units)\")\n",
    "plt.xlabel(\"Time (s)\")\n",
    "print()"
   ]
  },
  {
   "cell_type": "markdown",
   "metadata": {
    "hideCode": false,
    "hidePrompt": false,
    "slideshow": {
     "slide_type": "fragment"
    }
   },
   "source": [
    "$$f(13) = g(0) \\times h(13) \\\\+ g(10) \\times h(3) \\\\+ g(20) \\times  h(-7) \\\\+ ...$$\n"
   ]
  },
  {
   "cell_type": "markdown",
   "metadata": {
    "hideCode": false,
    "hidePrompt": false,
    "slideshow": {
     "slide_type": "fragment"
    }
   },
   "source": [
    "...wait...$h(-7)$?\n",
    "* Causal vs non-causal impulse responses. A \"non-causal\" impulse response is often encountered in the context of filtering: it's annoying, because we can't implement it in real time. An example of a theoretical system with a non-causal impulse response is a bell which begins to ring 5 seconds **before** you hit it: from a physics perspective it is obvious that the ringing is not causally related to the hammer blow, hence the name."
   ]
  },
  {
   "cell_type": "markdown",
   "metadata": {
    "hideCode": false,
    "hidePrompt": false,
    "slideshow": {
     "slide_type": "subslide"
    }
   },
   "source": [
    "## Viewers Shocked as Presenter turns Sum Into Integral AGAIN!\n",
    "$$ h(t) * g(t) = \\int_{-\\infty}^{\\infty} h(t - \\tau) g(\\tau) d\\tau$$\n",
    "_We can convolve any two functions $h(t)$ and $g(t)$; if we define $h(t)$ to be the impulse response of the system, $g(t)$ is the \"stimulus\" or driving function._\n",
    "\n",
    "\n",
    "* $g(t)$ can be **anything** (well almost)\n",
    "\n",
    "* Not all systems can be modelled like this: examples?\n",
    "    "
   ]
  },
  {
   "cell_type": "markdown",
   "metadata": {
    "hideCode": false,
    "hidePrompt": false,
    "slideshow": {
     "slide_type": "fragment"
    }
   },
   "source": [
    "* Several:\n",
    "\n",
    "    * Magnetics\n",
    "    * Diodes (sometimes)\n",
    "    * Transistors (sometimes)\n",
    "    * Wires????\n",
    "* System must be linear (so adding up works) and time-invariant (so $h(t)$ is constant). (i.e. if the wind changes between measuring our single firework and firing the whole display, obviously the smoke may decay in a different fashion)."
   ]
  },
  {
   "cell_type": "markdown",
   "metadata": {
    "hideCode": false,
    "hidePrompt": false,
    "slideshow": {
     "slide_type": "subslide"
    }
   },
   "source": [
    "## Final Useful Property of Convolution\n",
    "### \"The Convolution Theorem\"\n",
    "$$\\mathcal{F}\\left[f(t) * g(t)\\right] = \\mathcal{F}[f(t)] \\times \\mathcal{F}[g(t)]$$\n",
    "\n",
    "* The Fourier transform of the convolution of two functions is equal to the **product** of the Fourier transform of each of the functions\n",
    "\n",
    "\n",
    "_Convolution in the time domain is multiplication in the frequency domain and vice versa_"
   ]
  },
  {
   "cell_type": "markdown",
   "metadata": {
    "hideCode": false,
    "hidePrompt": false,
    "slideshow": {
     "slide_type": "slide"
    }
   },
   "source": [
    "# Why Bother: back to digital filtering\n",
    "\n",
    "* Recall our sampled signal, measured at a series of points. How might we recover intermediate values?\n",
    "* **Filtering**\n",
    "\n",
    "* We want to **remove** all signal at frequencies $f : |f| \\geq W$\n",
    "* i.e. multiply by \n",
    "$$ \\tilde{H}(k) = \\begin{cases}\n",
    "0 & |k| \\geq W \\\\\n",
    "1 & |k| < W\n",
    "\\end{cases}$$\n"
   ]
  },
  {
   "cell_type": "code",
   "execution_count": 16,
   "metadata": {
    "hideCode": false,
    "hidePrompt": false,
    "slideshow": {
     "slide_type": "subslide"
    }
   },
   "outputs": [
    {
     "name": "stdout",
     "output_type": "stream",
     "text": [
      "\n"
     ]
    },
    {
     "data": {
      "image/png": "[encoded data removed]",
      "text/plain": [
       "<Figure size 360x360 with 1 Axes>"
      ]
     },
     "metadata": {
      "needs_background": "light"
     },
     "output_type": "display_data"
    }
   ],
   "source": [
    "import warnings\n",
    "from __future__ import print_function\n",
    "warnings.filterwarnings(\"ignore\")\n",
    "\n",
    "import matplotlib.pyplot as plt\n",
    "import matplotlib \n",
    "import numpy as np\n",
    "import seaborn as sns\n",
    "colour_palette = sns.color_palette(\"colorblind\",3)\n",
    "plt.figure()\n",
    "plt.rcParams['figure.figsize']=[5,5]\n",
    "\n",
    "t = np.linspace(0,20,1000)\n",
    "s = np.random.pareto( 40,1000)*30*(1/t)\n",
    "\n",
    "plt.fill_between(t,0,s,alpha=0.7,color=colour_palette[2])\n",
    "plt.fill_between(-t,0,s,alpha=0.7,color=colour_palette[2])\n",
    "\n",
    "plt.fill_between([-10,10],0,[1,1],alpha=0.6,color=colour_palette[1])\n",
    "\n",
    "# plt.plot([x,x],[0,y],color='black')\n",
    "#plt.fill_between([x,x+1],0,[y,y],alpha=0.5,color=colour_palette[1])\n",
    "\n",
    "plt.xticks([-20,-10,0,10,20],[\"-2W\",\"-W\",\"0\",\"W\",\"2W\"])\n",
    "plt.xlim([-20,20])\n",
    "plt.yticks([0,1,2,3])\n",
    "plt.ylim([0,3.1])\n",
    "plt.xlabel(\"Frequency\")\n",
    "plt.ylabel(\"Signal strength\")\n",
    "# plt.grid(True)\n",
    "print()"
   ]
  },
  {
   "cell_type": "markdown",
   "metadata": {
    "hideCode": false,
    "hidePrompt": false
   },
   "source": [
    "Why not just take the Fourier transform of our signal, chop it off at W, and inverse FT it? Expensive and would require the whole signal...even then, may incur computational error etc. \n",
    "\n",
    "Prefer to filter using the convolution theorem: instead of multiplying by our \"brick wall\" in the frequency domain, we can convolve by its impulse response in the time domain. \n",
    "\n",
    "We can obtain the impulse response of the \"brick wall\" by taking the inverse Fourier transform thereof. This yields:~"
   ]
  },
  {
   "cell_type": "code",
   "execution_count": 17,
   "metadata": {
    "hideCode": false,
    "hidePrompt": false,
    "slideshow": {
     "slide_type": "subslide"
    }
   },
   "outputs": [
    {
     "name": "stdout",
     "output_type": "stream",
     "text": [
      "\n"
     ]
    },
    {
     "data": {
      "image/png": "[encoded data removed]",
      "text/plain": [
       "<Figure size 360x360 with 1 Axes>"
      ]
     },
     "metadata": {
      "needs_background": "light"
     },
     "output_type": "display_data"
    }
   ],
   "source": [
    "import warnings\n",
    "from __future__ import print_function\n",
    "warnings.filterwarnings(\"ignore\")\n",
    "\n",
    "import matplotlib.pyplot as plt\n",
    "import matplotlib \n",
    "import numpy as np\n",
    "import seaborn as sns\n",
    "colour_palette = sns.color_palette(\"colorblind\",3)\n",
    "plt.figure()\n",
    "plt.rcParams['figure.figsize']=[5,5]\n",
    "\n",
    "t = np.linspace(-2,2,1000)\n",
    "\n",
    "\n",
    "# plt.plot([-20,-10.01,-10,10,10.01,20],[0,0,1,1,0,0],color=colour_palette[1])\n",
    "h = np.sin(2 * np.pi * t * 3)/(np.pi * t)\n",
    "plt.plot(t,h)\n",
    "plt.xlabel(\"Time (s)\")\n",
    "plt.xlim(-2,2)\n",
    "plt.ylim(-2,4)\n",
    "plt.autoscale(False)\n",
    "plt.plot([0,0],[-1000,1000],color=\"black\")\n",
    "\n",
    "#plt.plot([x,x],[0,y],color='black')\n",
    "#plt.fill_between([x,x+1],0,[y,y],alpha=0.5,color=colour_palette[1])\n",
    "\n",
    "# plt.grid(True)\n",
    "print()"
   ]
  },
  {
   "cell_type": "markdown",
   "metadata": {
    "hideCode": false,
    "hidePrompt": false,
    "slideshow": {
     "slide_type": "fragment"
    }
   },
   "source": [
    "It turns out that the inverse Fourier transform of our \"brick wall\" is a \"sinc function\": \n",
    "\n",
    "$$h(t) = \\frac{1}{\\pi t} \\times sin(2 \\pi W t)$$\n",
    "\n",
    "This is the impulse response of a filter with this property! Hurray!\n",
    "\n",
    "* In order to get the same effect as cutting off the spectrum outside $(-W,W)$, just convolve with $h(t)$.\n",
    "* A bonus: 'sinc interpolation' (as described by Shannon) allows us to recover the signal at non-sampled moments from a sampled signal (see the Shannon paper linked earlier). "
   ]
  },
  {
   "cell_type": "markdown",
   "metadata": {
    "hideCode": false,
    "hidePrompt": false,
    "slideshow": {
     "slide_type": "fragment"
    }
   },
   "source": [
    "### Always a snag\n",
    "* Non-causal \n",
    "* Infinite"
   ]
  },
  {
   "cell_type": "markdown",
   "metadata": {
    "hideCode": false,
    "hidePrompt": false,
    "slideshow": {
     "slide_type": "subslide"
    }
   },
   "source": [
    "## Practical Solutions\n",
    "* Shift h(t) so that the peak occurs in the causal part (in other words, delay it), then truncate the impulse response to make it causal and finitely long.\n",
    "* Truncating leads to some issues...remember the Gibbs phenomenon from earlier, where sharp transitions led to \"ringing\"?\n"
   ]
  },
  {
   "cell_type": "code",
   "execution_count": 18,
   "metadata": {
    "hideCode": false,
    "hidePrompt": false,
    "slideshow": {
     "slide_type": "fragment"
    }
   },
   "outputs": [
    {
     "name": "stdout",
     "output_type": "stream",
     "text": [
      "\n"
     ]
    },
    {
     "data": {
      "image/png": "[encoded data removed]",
      "text/plain": [
       "<Figure size 360x360 with 1 Axes>"
      ]
     },
     "metadata": {
      "needs_background": "light"
     },
     "output_type": "display_data"
    }
   ],
   "source": [
    "%reset -f\n",
    "import warnings\n",
    "from __future__ import print_function\n",
    "warnings.filterwarnings(\"ignore\")\n",
    "\n",
    "import matplotlib.pyplot as plt\n",
    "import matplotlib \n",
    "import numpy as np\n",
    "import seaborn as sns\n",
    "colour_palette = sns.color_palette(\"colorblind\",3)\n",
    "plt.rcParams['figure.figsize']=[5,5]\n",
    "\n",
    "\n",
    "fig,ax=plt.subplots(1,1)\n",
    "# ax.plot([0,10],[1,1])\n",
    "# fig.set_size_inches((0.1,0.1),forward=True)\n",
    "\n",
    "def update_m_value(m):\n",
    "#     m = m_slider.val\n",
    "    plt.cla()\n",
    "    y_1 = np.where(x<0,-1.0,1.0)\n",
    "    y_1[0] = 0\n",
    "    y_1[-1]=0\n",
    "    plt.plot(x,y_1,color=colour_palette[0],lw=3.0)\n",
    "#     plt.plot([-100,100],[0,0],color='black')\n",
    "    bases = np.linspace(1,m,m)\n",
    "    \n",
    "    sin_coefficients = np.where(bases%2==0,0,4 /(bases*np.pi)) \n",
    "    sinusoids = np.sin(x*np.reshape(bases,(-1,1)))\n",
    "    y_2 = np.sum(np.reshape(sin_coefficients,(-1,1))*sinusoids,axis=0)\n",
    "    plt.plot(x,y_2,color=colour_palette[1],lw=3.0)\n",
    "    \n",
    "    plt.xlim(-np.pi,np.pi)\n",
    "\n",
    "    plt.yticks([-1,0,1])\n",
    "    plt.xticks([-np.pi,0,np.pi],labels=[\"-π\",0,\"π\"])\n",
    "    #plt.title('$sin(x)sin(kx)$',fontsize=30)\n",
    "    \n",
    "    \n",
    "m = 2\n",
    "\n",
    "# fig,ax = plt.subplots(1,1)\n",
    "x = np.linspace(-np.pi,np.pi,500)\n",
    "y_1 = np.sin(x)\n",
    "\n",
    "update_m_value(5)\n",
    "\n",
    "#add slider for m\n",
    "\n",
    "    # mpld3.display(fig)\n",
    "print()"
   ]
  },
  {
   "cell_type": "markdown",
   "metadata": {
    "hideCode": false,
    "hidePrompt": false,
    "slideshow": {
     "slide_type": "subslide"
    }
   },
   "source": [
    "# Digital Filters\n",
    "* Not a practical talk: tools for playing around include GNURadio, scipy.signal\n",
    "* Digital filters just apply the above property: use an impulse response in the time domain to process the signal\n",
    "* FIR: **F**inite **I**mpulse **R**esponse. Simple, but often expensive.\n",
    "* IIR: **I**nfinite **I**mpulse **R**esponse. Complex and more computationally efficient, but potentially explosive...feedback!\n"
   ]
  },
  {
   "cell_type": "markdown",
   "metadata": {
    "hideCode": false,
    "hidePrompt": false
   },
   "source": [
    "* We've now come full circle: sample a signal, filter it, and generate the spectrum should you so desire\n",
    "* FIR with \"6 taps\" (i.e. 6 sample long impulse response): each sample, we multiply this and the 5 previous samples by some weight (the value of the impulse response) and add up the results.\n",
    "\n",
    "<center>\n",
    "    <img src=\"FIR2.jpg\" width=400px/>\n",
    "    </center>"
   ]
  },
  {
   "cell_type": "markdown",
   "metadata": {
    "hideCode": false,
    "hidePrompt": false
   },
   "source": [
    "Below, we start with a 25Hz square wave and decide to filter out all but the fundamental, with an FIR filter centred at 30Hz. The number of taps (i.e. the length of the impulse response) is $m$; as we increase $m$, the filter becomes better in the frequency sense (sharper cutoff), but we pay for this by doing more computation and accepting a longer delay. Here $m=150$. The top signal on the plot (green) is at the frequency of the fundamental; the middle signal (orange) is the result of applying the $m$-tap filter to the bottom signal, which is the square wave.\n",
    "\n",
    "The second plot shows a frequency-domain view of the same filter."
   ]
  },
  {
   "cell_type": "code",
   "execution_count": 19,
   "metadata": {
    "hideCode": false,
    "hidePrompt": false,
    "slideshow": {
     "slide_type": "subslide"
    }
   },
   "outputs": [
    {
     "name": "stdout",
     "output_type": "stream",
     "text": [
      "\n"
     ]
    },
    {
     "data": {
      "image/png": "[encoded data removed]",
      "text/plain": [
       "<Figure size 360x360 with 1 Axes>"
      ]
     },
     "metadata": {
      "needs_background": "light"
     },
     "output_type": "display_data"
    }
   ],
   "source": [
    "%reset -f\n",
    "import warnings\n",
    "from __future__ import print_function\n",
    "warnings.filterwarnings(\"ignore\")\n",
    "\n",
    "import matplotlib.pyplot as plt\n",
    "import matplotlib \n",
    "import numpy as np\n",
    "import seaborn as sns\n",
    "colour_palette = sns.color_palette(\"colorblind\",3)\n",
    "plt.rcParams['figure.figsize']=[5,5]\n",
    "\n",
    "\n",
    "import scipy\n",
    "import scipy.signal\n",
    "\n",
    "colour_palette = sns.color_palette(\"colorblind\",3)\n",
    "fs = 1000 \n",
    "f_fund = 25\n",
    "time_end = 0.5\n",
    "\n",
    "fig,ax=plt.subplots(1,1)\n",
    "# ax.plot([0,10],[1,1])\n",
    "# fig.set_size_inches((0.1,0.1),forward=True)\n",
    "\n",
    "def update_m_value(m):\n",
    "    plt.cla()\n",
    "    t = np.linspace(0.0,time_end,np.int(fs*time_end))\n",
    "    y = np.where((np.trunc(t*f_fund*2*np.pi)%2==0),-1,1)*0.2\n",
    "    h = scipy.signal.firwin(m,30,fs=fs)\n",
    "    y_filt = np.convolve(y,h) +0.4\n",
    "    plt.plot(t,y,color=colour_palette[0])\n",
    "    plt.plot(t,y_filt[:len(t)],color=colour_palette[1])\n",
    "    plt.yticks([])\n",
    "    plt.plot(t,np.sin(2*np.pi*f_fund*t)*0.1+0.6,color=colour_palette[2])\n",
    "    plt.xlabel(\"Time (s)\")\n",
    "\n",
    "\n",
    "m = 2\n",
    "\n",
    "# fig,ax = plt.subplots(1,1)\n",
    "\n",
    "update_m_value(150)\n",
    "\n",
    "#add slider for m\n",
    "\n",
    "\n",
    "# mpld3.display(fig)\n",
    "print()"
   ]
  },
  {
   "cell_type": "code",
   "execution_count": 20,
   "metadata": {
    "hideCode": false,
    "hidePrompt": false,
    "slideshow": {
     "slide_type": "subslide"
    }
   },
   "outputs": [
    {
     "name": "stdout",
     "output_type": "stream",
     "text": [
      "\n"
     ]
    },
    {
     "data": {
      "image/png": "[encoded data removed]",
      "text/plain": [
       "<Figure size 360x360 with 1 Axes>"
      ]
     },
     "metadata": {
      "needs_background": "light"
     },
     "output_type": "display_data"
    }
   ],
   "source": [
    "%reset -f\n",
    "import warnings\n",
    "from __future__ import print_function\n",
    "warnings.filterwarnings(\"ignore\")\n",
    "\n",
    "import matplotlib.pyplot as plt\n",
    "import matplotlib \n",
    "import numpy as np\n",
    "import seaborn as sns\n",
    "colour_palette = sns.color_palette(\"colorblind\",3)\n",
    "plt.rcParams['figure.figsize']=[5,5]\n",
    "\n",
    "import scipy\n",
    "import scipy.signal\n",
    "\n",
    "colour_palette = sns.color_palette(\"colorblind\",3)\n",
    "fs = 1000 \n",
    "f_fund = 25\n",
    "time_end = 0.5\n",
    "\n",
    "fig,ax=plt.subplots(1,1)\n",
    "# ax.plot([0,10],[1,1])\n",
    "# fig.set_size_inches((0.1,0.1),forward=True)\n",
    "\n",
    "def update_m_value(m):\n",
    "    plt.cla()\n",
    "    h = scipy.signal.firwin(m,30,fs=fs)\n",
    "    plt.plot(np.linspace(0,fs/2,np.int(len(h)/2)),np.abs(np.fft.fft(h))[:np.int(len(h)/2)],color=colour_palette[0])\n",
    "    plt.xlim(0,150)\n",
    "#     plt.yticks([])\n",
    "    plt.xlabel(\"Frequency (Hz)\")\n",
    "    plt.ylabel(\"Filter gain\")\n",
    "\n",
    "\n",
    "m = 2\n",
    "\n",
    "# fig,ax = plt.subplots(1,1)\n",
    "\n",
    "update_m_value(150)\n",
    "\n",
    "# mpld3.display(fig)\n",
    "print()"
   ]
  },
  {
   "cell_type": "markdown",
   "metadata": {
    "hideCode": false,
    "hidePrompt": false,
    "slideshow": {
     "slide_type": "slide"
    }
   },
   "source": [
    "# The End\n",
    "* Sample a signal: proved we can reproduce it\n",
    "* Given a signal, we can take the Fourier transform & find out about the frequency content\n",
    "* LTI systems represented by their impulse response\n",
    "* Convolution in time domain = multiplication in frequency domain and vice-versa\n",
    "* Use this to filter a digital signal\n",
    "\n",
    "## Questions to m0+rsgb2020@wje.io\n",
    "(please try Google first!)"
   ]
  }
 ],
 "metadata": {
  "celltoolbar": "Slideshow",
  "hide_code_all_hidden": false,
  "kernelspec": {
   "display_name": "Python 3",
   "language": "python",
   "name": "python3"
  },
  "language_info": {
   "codemirror_mode": {
    "name": "ipython",
    "version": 3
   },
   "file_extension": ".py",
   "mimetype": "text/x-python",
   "name": "python",
   "nbconvert_exporter": "python",
   "pygments_lexer": "ipython3",
   "version": "3.8.5"
  }
 },
 "nbformat": 4,
 "nbformat_minor": 4
}
